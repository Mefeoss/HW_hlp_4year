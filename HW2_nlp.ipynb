{
 "cells": [
  {
   "cell_type": "markdown",
   "metadata": {},
   "source": [
    "# Феоктистова Эмма\n",
    "## 4 курс ФиКЛ\n",
    "## Домашнее задание №2"
   ]
  },
  {
   "cell_type": "markdown",
   "metadata": {},
   "source": [
    "### Данные: reviews_Electronics_5.json.gz\n",
    "### Ссылка на google disk с данными: https://drive.google.com/file/d/1sPHOXDQ96R94am1_Un-YYIvMqovgEnKf/view?usp=sharing"
   ]
  },
  {
   "cell_type": "markdown",
   "metadata": {},
   "source": [
    "### Prepare"
   ]
  },
  {
   "cell_type": "code",
   "execution_count": 51,
   "metadata": {},
   "outputs": [
    {
     "name": "stdout",
     "output_type": "stream",
     "text": [
      "Requirement already satisfied: keybert in /Library/Frameworks/Python.framework/Versions/3.8/lib/python3.8/site-packages (0.7.0)\n",
      "Requirement already satisfied: sentence-transformers>=0.3.8 in /Library/Frameworks/Python.framework/Versions/3.8/lib/python3.8/site-packages (from keybert) (2.2.2)\n",
      "Requirement already satisfied: numpy>=1.18.5 in /Library/Frameworks/Python.framework/Versions/3.8/lib/python3.8/site-packages (from keybert) (1.23.5)\n",
      "Requirement already satisfied: scikit-learn>=0.22.2 in /Library/Frameworks/Python.framework/Versions/3.8/lib/python3.8/site-packages (from keybert) (1.0.2)\n",
      "Requirement already satisfied: rich>=10.4.0 in /Library/Frameworks/Python.framework/Versions/3.8/lib/python3.8/site-packages (from keybert) (12.6.0)\n",
      "Requirement already satisfied: pygments<3.0.0,>=2.6.0 in /Library/Frameworks/Python.framework/Versions/3.8/lib/python3.8/site-packages (from rich>=10.4.0->keybert) (2.6.1)\n",
      "Requirement already satisfied: commonmark<0.10.0,>=0.9.0 in /Library/Frameworks/Python.framework/Versions/3.8/lib/python3.8/site-packages (from rich>=10.4.0->keybert) (0.9.1)\n",
      "Requirement already satisfied: typing-extensions<5.0,>=4.0.0 in /Library/Frameworks/Python.framework/Versions/3.8/lib/python3.8/site-packages (from rich>=10.4.0->keybert) (4.4.0)\n",
      "Requirement already satisfied: scipy>=1.1.0 in /Library/Frameworks/Python.framework/Versions/3.8/lib/python3.8/site-packages (from scikit-learn>=0.22.2->keybert) (1.4.1)\n",
      "Requirement already satisfied: joblib>=0.11 in /Library/Frameworks/Python.framework/Versions/3.8/lib/python3.8/site-packages (from scikit-learn>=0.22.2->keybert) (0.16.0)\n",
      "Requirement already satisfied: threadpoolctl>=2.0.0 in /Library/Frameworks/Python.framework/Versions/3.8/lib/python3.8/site-packages (from scikit-learn>=0.22.2->keybert) (2.1.0)\n",
      "Requirement already satisfied: torch>=1.6.0 in /Library/Frameworks/Python.framework/Versions/3.8/lib/python3.8/site-packages (from sentence-transformers>=0.3.8->keybert) (1.13.1)\n",
      "Requirement already satisfied: torchvision in /Library/Frameworks/Python.framework/Versions/3.8/lib/python3.8/site-packages (from sentence-transformers>=0.3.8->keybert) (0.14.1)\n",
      "Requirement already satisfied: tqdm in /Library/Frameworks/Python.framework/Versions/3.8/lib/python3.8/site-packages (from sentence-transformers>=0.3.8->keybert) (4.62.0)\n",
      "Requirement already satisfied: nltk in /Library/Frameworks/Python.framework/Versions/3.8/lib/python3.8/site-packages (from sentence-transformers>=0.3.8->keybert) (3.5)\n",
      "Requirement already satisfied: transformers<5.0.0,>=4.6.0 in /Library/Frameworks/Python.framework/Versions/3.8/lib/python3.8/site-packages (from sentence-transformers>=0.3.8->keybert) (4.10.2)\n",
      "Requirement already satisfied: sentencepiece in /Library/Frameworks/Python.framework/Versions/3.8/lib/python3.8/site-packages (from sentence-transformers>=0.3.8->keybert) (0.1.95)\n",
      "Requirement already satisfied: huggingface-hub>=0.4.0 in /Library/Frameworks/Python.framework/Versions/3.8/lib/python3.8/site-packages (from sentence-transformers>=0.3.8->keybert) (0.11.1)\n",
      "Requirement already satisfied: requests in /Library/Frameworks/Python.framework/Versions/3.8/lib/python3.8/site-packages (from huggingface-hub>=0.4.0->sentence-transformers>=0.3.8->keybert) (2.22.0)\n",
      "Requirement already satisfied: packaging>=20.9 in /Library/Frameworks/Python.framework/Versions/3.8/lib/python3.8/site-packages (from huggingface-hub>=0.4.0->sentence-transformers>=0.3.8->keybert) (21.0)\n",
      "Requirement already satisfied: filelock in /Library/Frameworks/Python.framework/Versions/3.8/lib/python3.8/site-packages (from huggingface-hub>=0.4.0->sentence-transformers>=0.3.8->keybert) (3.0.12)\n",
      "Requirement already satisfied: pyyaml>=5.1 in /Library/Frameworks/Python.framework/Versions/3.8/lib/python3.8/site-packages (from huggingface-hub>=0.4.0->sentence-transformers>=0.3.8->keybert) (5.4.1)\n",
      "Requirement already satisfied: tokenizers<0.11,>=0.10.1 in /Library/Frameworks/Python.framework/Versions/3.8/lib/python3.8/site-packages (from transformers<5.0.0,>=4.6.0->sentence-transformers>=0.3.8->keybert) (0.10.3)\n",
      "Requirement already satisfied: regex!=2019.12.17 in /Library/Frameworks/Python.framework/Versions/3.8/lib/python3.8/site-packages (from transformers<5.0.0,>=4.6.0->sentence-transformers>=0.3.8->keybert) (2020.7.14)\n",
      "Requirement already satisfied: sacremoses in /Library/Frameworks/Python.framework/Versions/3.8/lib/python3.8/site-packages (from transformers<5.0.0,>=4.6.0->sentence-transformers>=0.3.8->keybert) (0.0.45)\n",
      "Requirement already satisfied: click in /Library/Frameworks/Python.framework/Versions/3.8/lib/python3.8/site-packages (from nltk->sentence-transformers>=0.3.8->keybert) (7.1.2)\n",
      "Requirement already satisfied: pillow!=8.3.*,>=5.3.0 in /Library/Frameworks/Python.framework/Versions/3.8/lib/python3.8/site-packages (from torchvision->sentence-transformers>=0.3.8->keybert) (7.2.0)\n",
      "Requirement already satisfied: pyparsing>=2.0.2 in /Library/Frameworks/Python.framework/Versions/3.8/lib/python3.8/site-packages (from packaging>=20.9->huggingface-hub>=0.4.0->sentence-transformers>=0.3.8->keybert) (2.4.7)\n",
      "Requirement already satisfied: idna<2.9,>=2.5 in /Library/Frameworks/Python.framework/Versions/3.8/lib/python3.8/site-packages (from requests->huggingface-hub>=0.4.0->sentence-transformers>=0.3.8->keybert) (2.8)\n",
      "Requirement already satisfied: urllib3!=1.25.0,!=1.25.1,<1.26,>=1.21.1 in /Library/Frameworks/Python.framework/Versions/3.8/lib/python3.8/site-packages (from requests->huggingface-hub>=0.4.0->sentence-transformers>=0.3.8->keybert) (1.25.11)\n",
      "Requirement already satisfied: certifi>=2017.4.17 in /Library/Frameworks/Python.framework/Versions/3.8/lib/python3.8/site-packages (from requests->huggingface-hub>=0.4.0->sentence-transformers>=0.3.8->keybert) (2020.6.20)\n",
      "Requirement already satisfied: chardet<3.1.0,>=3.0.2 in /Library/Frameworks/Python.framework/Versions/3.8/lib/python3.8/site-packages (from requests->huggingface-hub>=0.4.0->sentence-transformers>=0.3.8->keybert) (3.0.4)\n",
      "Requirement already satisfied: six in /Library/Frameworks/Python.framework/Versions/3.8/lib/python3.8/site-packages (from sacremoses->transformers<5.0.0,>=4.6.0->sentence-transformers>=0.3.8->keybert) (1.15.0)\n"
     ]
    }
   ],
   "source": [
    "!pip install keybert"
   ]
  },
  {
   "cell_type": "code",
   "execution_count": 52,
   "metadata": {},
   "outputs": [
    {
     "name": "stdout",
     "output_type": "stream",
     "text": [
      "Requirement already satisfied: nltk in /Library/Frameworks/Python.framework/Versions/3.8/lib/python3.8/site-packages (3.5)\r\n",
      "Requirement already satisfied: click in /Library/Frameworks/Python.framework/Versions/3.8/lib/python3.8/site-packages (from nltk) (7.1.2)\r\n",
      "Requirement already satisfied: joblib in /Library/Frameworks/Python.framework/Versions/3.8/lib/python3.8/site-packages (from nltk) (0.16.0)\r\n",
      "Requirement already satisfied: regex in /Library/Frameworks/Python.framework/Versions/3.8/lib/python3.8/site-packages (from nltk) (2020.7.14)\r\n",
      "Requirement already satisfied: tqdm in /Library/Frameworks/Python.framework/Versions/3.8/lib/python3.8/site-packages (from nltk) (4.62.0)\r\n"
     ]
    }
   ],
   "source": [
    "!pip install nltk"
   ]
  },
  {
   "cell_type": "code",
   "execution_count": 53,
   "metadata": {},
   "outputs": [
    {
     "name": "stdout",
     "output_type": "stream",
     "text": [
      "Requirement already satisfied: pymorphy2 in /Library/Frameworks/Python.framework/Versions/3.8/lib/python3.8/site-packages (0.9.1)\r\n",
      "Requirement already satisfied: dawg-python>=0.7.1 in /Library/Frameworks/Python.framework/Versions/3.8/lib/python3.8/site-packages (from pymorphy2) (0.7.2)\r\n",
      "Requirement already satisfied: pymorphy2-dicts-ru<3.0,>=2.4 in /Library/Frameworks/Python.framework/Versions/3.8/lib/python3.8/site-packages (from pymorphy2) (2.4.417127.4579844)\r\n",
      "Requirement already satisfied: docopt>=0.6 in /Library/Frameworks/Python.framework/Versions/3.8/lib/python3.8/site-packages (from pymorphy2) (0.6.2)\r\n"
     ]
    }
   ],
   "source": [
    "!pip install pymorphy2"
   ]
  },
  {
   "cell_type": "code",
   "execution_count": 54,
   "metadata": {},
   "outputs": [
    {
     "name": "stdout",
     "output_type": "stream",
     "text": [
      "Requirement already satisfied: yargy in /Library/Frameworks/Python.framework/Versions/3.8/lib/python3.8/site-packages (0.15.0)\r\n",
      "Requirement already satisfied: pymorphy2 in /Library/Frameworks/Python.framework/Versions/3.8/lib/python3.8/site-packages (from yargy) (0.9.1)\r\n",
      "Requirement already satisfied: docopt>=0.6 in /Library/Frameworks/Python.framework/Versions/3.8/lib/python3.8/site-packages (from pymorphy2->yargy) (0.6.2)\r\n",
      "Requirement already satisfied: dawg-python>=0.7.1 in /Library/Frameworks/Python.framework/Versions/3.8/lib/python3.8/site-packages (from pymorphy2->yargy) (0.7.2)\r\n",
      "Requirement already satisfied: pymorphy2-dicts-ru<3.0,>=2.4 in /Library/Frameworks/Python.framework/Versions/3.8/lib/python3.8/site-packages (from pymorphy2->yargy) (2.4.417127.4579844)\r\n"
     ]
    }
   ],
   "source": [
    "!pip install yargy"
   ]
  },
  {
   "cell_type": "code",
   "execution_count": 55,
   "metadata": {},
   "outputs": [
    {
     "name": "stdout",
     "output_type": "stream",
     "text": [
      "Requirement already satisfied: stanza in /Library/Frameworks/Python.framework/Versions/3.8/lib/python3.8/site-packages (1.2.3)\r\n",
      "Requirement already satisfied: requests in /Library/Frameworks/Python.framework/Versions/3.8/lib/python3.8/site-packages (from stanza) (2.22.0)\r\n",
      "Requirement already satisfied: protobuf in /Library/Frameworks/Python.framework/Versions/3.8/lib/python3.8/site-packages (from stanza) (3.17.3)\r\n",
      "Requirement already satisfied: tqdm in /Library/Frameworks/Python.framework/Versions/3.8/lib/python3.8/site-packages (from stanza) (4.62.0)\r\n",
      "Requirement already satisfied: torch>=1.3.0 in /Library/Frameworks/Python.framework/Versions/3.8/lib/python3.8/site-packages (from stanza) (1.13.1)\r\n",
      "Requirement already satisfied: numpy in /Library/Frameworks/Python.framework/Versions/3.8/lib/python3.8/site-packages (from stanza) (1.23.5)\r\n",
      "Requirement already satisfied: typing-extensions in /Library/Frameworks/Python.framework/Versions/3.8/lib/python3.8/site-packages (from torch>=1.3.0->stanza) (4.4.0)\r\n",
      "Requirement already satisfied: six>=1.9 in /Library/Frameworks/Python.framework/Versions/3.8/lib/python3.8/site-packages (from protobuf->stanza) (1.15.0)\r\n",
      "Requirement already satisfied: urllib3!=1.25.0,!=1.25.1,<1.26,>=1.21.1 in /Library/Frameworks/Python.framework/Versions/3.8/lib/python3.8/site-packages (from requests->stanza) (1.25.11)\r\n",
      "Requirement already satisfied: certifi>=2017.4.17 in /Library/Frameworks/Python.framework/Versions/3.8/lib/python3.8/site-packages (from requests->stanza) (2020.6.20)\r\n",
      "Requirement already satisfied: chardet<3.1.0,>=3.0.2 in /Library/Frameworks/Python.framework/Versions/3.8/lib/python3.8/site-packages (from requests->stanza) (3.0.4)\r\n",
      "Requirement already satisfied: idna<2.9,>=2.5 in /Library/Frameworks/Python.framework/Versions/3.8/lib/python3.8/site-packages (from requests->stanza) (2.8)\r\n"
     ]
    }
   ],
   "source": [
    "!pip install stanza"
   ]
  },
  {
   "cell_type": "markdown",
   "metadata": {},
   "source": [
    "### Reading pandas data frame"
   ]
  },
  {
   "cell_type": "markdown",
   "metadata": {},
   "source": [
    "Using code from: http://jmcauley.ucsd.edu/data/amazon/"
   ]
  },
  {
   "cell_type": "markdown",
   "metadata": {},
   "source": [
    "What are the columns in df?\n",
    "\n",
    "```\n",
    "{\n",
    "  \"reviewerID\": \"A2SUAM1J3GNN3B\",\n",
    "  \"asin\": \"0000013714\",\n",
    "  \"reviewerName\": \"J. McDonald\",\n",
    "  \"helpful\": [2, 3],\n",
    "  \"reviewText\": \"I bought this for my husband who plays the piano.  He is having a wonderful time playing these old hymns.  The music  is at times hard to read because we think the book was published for singing from more than playing from.  Great purchase though!\",\n",
    "  \"overall\": 5.0,\n",
    "  \"summary\": \"Heavenly Highway Hymns\",\n",
    "  \"unixReviewTime\": 1252800000,\n",
    "  \"reviewTime\": \"09 13, 2009\"\n",
    "}\n",
    "```"
   ]
  },
  {
   "cell_type": "code",
   "execution_count": 15,
   "metadata": {
    "ExecuteTime": {
     "end_time": "2022-12-16T20:27:59.589256Z",
     "start_time": "2022-12-16T20:25:20.301503Z"
    }
   },
   "outputs": [],
   "source": [
    "import pandas as pd\n",
    "import gzip\n",
    "\n",
    "def parse(path):\n",
    "    g = gzip.open(path, 'rb')\n",
    "    for l in g:\n",
    "        yield eval(l)\n",
    "\n",
    "def getDF(path):\n",
    "    i = 0\n",
    "    df = {}\n",
    "    for d in parse(path):\n",
    "        df[i] = d\n",
    "        i += 1\n",
    "    return pd.DataFrame.from_dict(df, orient='index')\n",
    "\n",
    "df = getDF('reviews_Electronics_5.json.gz')"
   ]
  },
  {
   "cell_type": "code",
   "execution_count": 16,
   "metadata": {
    "ExecuteTime": {
     "end_time": "2022-12-16T20:27:59.680196Z",
     "start_time": "2022-12-16T20:27:59.652377Z"
    }
   },
   "outputs": [
    {
     "data": {
      "text/html": [
       "<div>\n",
       "<style scoped>\n",
       "    .dataframe tbody tr th:only-of-type {\n",
       "        vertical-align: middle;\n",
       "    }\n",
       "\n",
       "    .dataframe tbody tr th {\n",
       "        vertical-align: top;\n",
       "    }\n",
       "\n",
       "    .dataframe thead th {\n",
       "        text-align: right;\n",
       "    }\n",
       "</style>\n",
       "<table border=\"1\" class=\"dataframe\">\n",
       "  <thead>\n",
       "    <tr style=\"text-align: right;\">\n",
       "      <th></th>\n",
       "      <th>reviewerID</th>\n",
       "      <th>asin</th>\n",
       "      <th>reviewerName</th>\n",
       "      <th>helpful</th>\n",
       "      <th>reviewText</th>\n",
       "      <th>overall</th>\n",
       "      <th>summary</th>\n",
       "      <th>unixReviewTime</th>\n",
       "      <th>reviewTime</th>\n",
       "    </tr>\n",
       "  </thead>\n",
       "  <tbody>\n",
       "    <tr>\n",
       "      <th>0</th>\n",
       "      <td>AO94DHGC771SJ</td>\n",
       "      <td>0528881469</td>\n",
       "      <td>amazdnu</td>\n",
       "      <td>[0, 0]</td>\n",
       "      <td>We got this GPS for my husband who is an (OTR)...</td>\n",
       "      <td>5.0</td>\n",
       "      <td>Gotta have GPS!</td>\n",
       "      <td>1370131200</td>\n",
       "      <td>06 2, 2013</td>\n",
       "    </tr>\n",
       "    <tr>\n",
       "      <th>1</th>\n",
       "      <td>AMO214LNFCEI4</td>\n",
       "      <td>0528881469</td>\n",
       "      <td>Amazon Customer</td>\n",
       "      <td>[12, 15]</td>\n",
       "      <td>I'm a professional OTR truck driver, and I bou...</td>\n",
       "      <td>1.0</td>\n",
       "      <td>Very Disappointed</td>\n",
       "      <td>1290643200</td>\n",
       "      <td>11 25, 2010</td>\n",
       "    </tr>\n",
       "    <tr>\n",
       "      <th>2</th>\n",
       "      <td>A3N7T0DY83Y4IG</td>\n",
       "      <td>0528881469</td>\n",
       "      <td>C. A. Freeman</td>\n",
       "      <td>[43, 45]</td>\n",
       "      <td>Well, what can I say.  I've had this unit in m...</td>\n",
       "      <td>3.0</td>\n",
       "      <td>1st impression</td>\n",
       "      <td>1283990400</td>\n",
       "      <td>09 9, 2010</td>\n",
       "    </tr>\n",
       "    <tr>\n",
       "      <th>3</th>\n",
       "      <td>A1H8PY3QHMQQA0</td>\n",
       "      <td>0528881469</td>\n",
       "      <td>Dave M. Shaw \"mack dave\"</td>\n",
       "      <td>[9, 10]</td>\n",
       "      <td>Not going to write a long review, even thought...</td>\n",
       "      <td>2.0</td>\n",
       "      <td>Great grafics, POOR GPS</td>\n",
       "      <td>1290556800</td>\n",
       "      <td>11 24, 2010</td>\n",
       "    </tr>\n",
       "    <tr>\n",
       "      <th>4</th>\n",
       "      <td>A24EV6RXELQZ63</td>\n",
       "      <td>0528881469</td>\n",
       "      <td>Wayne Smith</td>\n",
       "      <td>[0, 0]</td>\n",
       "      <td>I've had mine for a year and here's what we go...</td>\n",
       "      <td>1.0</td>\n",
       "      <td>Major issues, only excuses for support</td>\n",
       "      <td>1317254400</td>\n",
       "      <td>09 29, 2011</td>\n",
       "    </tr>\n",
       "    <tr>\n",
       "      <th>...</th>\n",
       "      <td>...</td>\n",
       "      <td>...</td>\n",
       "      <td>...</td>\n",
       "      <td>...</td>\n",
       "      <td>...</td>\n",
       "      <td>...</td>\n",
       "      <td>...</td>\n",
       "      <td>...</td>\n",
       "      <td>...</td>\n",
       "    </tr>\n",
       "    <tr>\n",
       "      <th>1689183</th>\n",
       "      <td>A34BZM6S9L7QI4</td>\n",
       "      <td>B00LGQ6HL8</td>\n",
       "      <td>Candy Cane \"Is it just me?\"</td>\n",
       "      <td>[1, 1]</td>\n",
       "      <td>Burned these in before listening to them for a...</td>\n",
       "      <td>5.0</td>\n",
       "      <td>Boom -- Pop -- Pow.  These deliver.</td>\n",
       "      <td>1405555200</td>\n",
       "      <td>07 17, 2014</td>\n",
       "    </tr>\n",
       "    <tr>\n",
       "      <th>1689184</th>\n",
       "      <td>A1G650TTTHEAL5</td>\n",
       "      <td>B00LGQ6HL8</td>\n",
       "      <td>Charles Spanky \"Zumina Reviews\"</td>\n",
       "      <td>[0, 0]</td>\n",
       "      <td>Some people like DJ style headphones or earbud...</td>\n",
       "      <td>5.0</td>\n",
       "      <td>Thin and light, without compromising on sound ...</td>\n",
       "      <td>1405382400</td>\n",
       "      <td>07 15, 2014</td>\n",
       "    </tr>\n",
       "    <tr>\n",
       "      <th>1689185</th>\n",
       "      <td>A25C2M3QF9G7OQ</td>\n",
       "      <td>B00LGQ6HL8</td>\n",
       "      <td>Comdet</td>\n",
       "      <td>[0, 0]</td>\n",
       "      <td>I&amp;#8217;m a big fan of the Brainwavz S1 (actua...</td>\n",
       "      <td>5.0</td>\n",
       "      <td>Same form factor and durability as the S1 with...</td>\n",
       "      <td>1405555200</td>\n",
       "      <td>07 17, 2014</td>\n",
       "    </tr>\n",
       "    <tr>\n",
       "      <th>1689186</th>\n",
       "      <td>A1E1LEVQ9VQNK</td>\n",
       "      <td>B00LGQ6HL8</td>\n",
       "      <td>J. Chambers</td>\n",
       "      <td>[0, 0]</td>\n",
       "      <td>I've used theBrainwavz S1 In Ear Headphones, a...</td>\n",
       "      <td>5.0</td>\n",
       "      <td>Superb audio quality in a very comfortable set...</td>\n",
       "      <td>1405641600</td>\n",
       "      <td>07 18, 2014</td>\n",
       "    </tr>\n",
       "    <tr>\n",
       "      <th>1689187</th>\n",
       "      <td>A2NYK9KWFMJV4Y</td>\n",
       "      <td>B00LGQ6HL8</td>\n",
       "      <td>Mike Tarrani \"Jazz Drummer\"</td>\n",
       "      <td>[0, 0]</td>\n",
       "      <td>Normally when I receive a review sample I can ...</td>\n",
       "      <td>5.0</td>\n",
       "      <td>Exceptional sound</td>\n",
       "      <td>1405209600</td>\n",
       "      <td>07 13, 2014</td>\n",
       "    </tr>\n",
       "  </tbody>\n",
       "</table>\n",
       "<p>1689188 rows × 9 columns</p>\n",
       "</div>"
      ],
      "text/plain": [
       "             reviewerID        asin                     reviewerName  \\\n",
       "0         AO94DHGC771SJ  0528881469                          amazdnu   \n",
       "1         AMO214LNFCEI4  0528881469                  Amazon Customer   \n",
       "2        A3N7T0DY83Y4IG  0528881469                    C. A. Freeman   \n",
       "3        A1H8PY3QHMQQA0  0528881469         Dave M. Shaw \"mack dave\"   \n",
       "4        A24EV6RXELQZ63  0528881469                      Wayne Smith   \n",
       "...                 ...         ...                              ...   \n",
       "1689183  A34BZM6S9L7QI4  B00LGQ6HL8      Candy Cane \"Is it just me?\"   \n",
       "1689184  A1G650TTTHEAL5  B00LGQ6HL8  Charles Spanky \"Zumina Reviews\"   \n",
       "1689185  A25C2M3QF9G7OQ  B00LGQ6HL8                           Comdet   \n",
       "1689186   A1E1LEVQ9VQNK  B00LGQ6HL8                      J. Chambers   \n",
       "1689187  A2NYK9KWFMJV4Y  B00LGQ6HL8      Mike Tarrani \"Jazz Drummer\"   \n",
       "\n",
       "          helpful                                         reviewText  overall  \\\n",
       "0          [0, 0]  We got this GPS for my husband who is an (OTR)...      5.0   \n",
       "1        [12, 15]  I'm a professional OTR truck driver, and I bou...      1.0   \n",
       "2        [43, 45]  Well, what can I say.  I've had this unit in m...      3.0   \n",
       "3         [9, 10]  Not going to write a long review, even thought...      2.0   \n",
       "4          [0, 0]  I've had mine for a year and here's what we go...      1.0   \n",
       "...           ...                                                ...      ...   \n",
       "1689183    [1, 1]  Burned these in before listening to them for a...      5.0   \n",
       "1689184    [0, 0]  Some people like DJ style headphones or earbud...      5.0   \n",
       "1689185    [0, 0]  I&#8217;m a big fan of the Brainwavz S1 (actua...      5.0   \n",
       "1689186    [0, 0]  I've used theBrainwavz S1 In Ear Headphones, a...      5.0   \n",
       "1689187    [0, 0]  Normally when I receive a review sample I can ...      5.0   \n",
       "\n",
       "                                                   summary  unixReviewTime  \\\n",
       "0                                          Gotta have GPS!      1370131200   \n",
       "1                                        Very Disappointed      1290643200   \n",
       "2                                           1st impression      1283990400   \n",
       "3                                  Great grafics, POOR GPS      1290556800   \n",
       "4                   Major issues, only excuses for support      1317254400   \n",
       "...                                                    ...             ...   \n",
       "1689183                Boom -- Pop -- Pow.  These deliver.      1405555200   \n",
       "1689184  Thin and light, without compromising on sound ...      1405382400   \n",
       "1689185  Same form factor and durability as the S1 with...      1405555200   \n",
       "1689186  Superb audio quality in a very comfortable set...      1405641600   \n",
       "1689187                                  Exceptional sound      1405209600   \n",
       "\n",
       "          reviewTime  \n",
       "0         06 2, 2013  \n",
       "1        11 25, 2010  \n",
       "2         09 9, 2010  \n",
       "3        11 24, 2010  \n",
       "4        09 29, 2011  \n",
       "...              ...  \n",
       "1689183  07 17, 2014  \n",
       "1689184  07 15, 2014  \n",
       "1689185  07 17, 2014  \n",
       "1689186  07 18, 2014  \n",
       "1689187  07 13, 2014  \n",
       "\n",
       "[1689188 rows x 9 columns]"
      ]
     },
     "execution_count": 16,
     "metadata": {},
     "output_type": "execute_result"
    }
   ],
   "source": [
    "df"
   ]
  },
  {
   "cell_type": "markdown",
   "metadata": {},
   "source": [
    "### See what in it"
   ]
  },
  {
   "cell_type": "code",
   "execution_count": 17,
   "metadata": {
    "ExecuteTime": {
     "end_time": "2022-12-16T21:17:22.884869Z",
     "start_time": "2022-12-16T21:17:22.875187Z"
    }
   },
   "outputs": [],
   "source": [
    "import random\n",
    "\n",
    "random.seed(3)"
   ]
  },
  {
   "cell_type": "code",
   "execution_count": 18,
   "metadata": {
    "ExecuteTime": {
     "end_time": "2022-12-16T21:36:27.495551Z",
     "start_time": "2022-12-16T21:36:27.483549Z"
    }
   },
   "outputs": [],
   "source": [
    "def get_random_review_text(df, i=None):\n",
    "    if i is None:\n",
    "        i = random.randint(0, len(df))\n",
    "    text = list(df[i:i+1]['reviewText'])[0]\n",
    "    summary = list(df[i:i+1]['summary'])[0]\n",
    "    \n",
    "    print('\\nREVIEW TEXT:')\n",
    "    print(text)\n",
    "    print('\\nTITLE OF REVIEW:')\n",
    "    print(summary)\n",
    "    print('\\n\\n')\n",
    "    \n",
    "    return text, summary"
   ]
  },
  {
   "cell_type": "code",
   "execution_count": 19,
   "metadata": {
    "ExecuteTime": {
     "end_time": "2022-12-16T21:36:27.745195Z",
     "start_time": "2022-12-16T21:36:27.724353Z"
    }
   },
   "outputs": [
    {
     "name": "stdout",
     "output_type": "stream",
     "text": [
      "\n",
      "REVIEW TEXT:\n",
      "I'm using this fan to cool my stereo cabinet that houses my DVR and Xbox One. It's connected to the USB port in the back of the Xbox One. It's quiet and keeps the cabinet significantly cooler.\n",
      "\n",
      "TITLE OF REVIEW:\n",
      "Quiet, Effective Cooling Soltion\n",
      "\n",
      "\n",
      "\n"
     ]
    }
   ],
   "source": [
    "_ = get_random_review_text(df)"
   ]
  },
  {
   "cell_type": "markdown",
   "metadata": {},
   "source": [
    "### Try to find key words: keyBERT"
   ]
  },
  {
   "cell_type": "markdown",
   "metadata": {},
   "source": [
    "Source: https://github.com/named-entity/hse-nlp/blob/master/4th_year/Slides/1_Keywords.ipynb"
   ]
  },
  {
   "cell_type": "markdown",
   "metadata": {},
   "source": [
    "API to use: https://maartengr.github.io/KeyBERT/api/keybert.html"
   ]
  },
  {
   "cell_type": "markdown",
   "metadata": {},
   "source": [
    "To use different models and embendings see: https://maartengr.github.io/KeyBERT/guides/embeddings.html"
   ]
  },
  {
   "cell_type": "code",
   "execution_count": 20,
   "metadata": {
    "ExecuteTime": {
     "end_time": "2022-12-16T20:30:09.418777Z",
     "start_time": "2022-12-16T20:30:04.399039Z"
    }
   },
   "outputs": [],
   "source": [
    "from keybert import KeyBERT"
   ]
  },
  {
   "cell_type": "code",
   "execution_count": 21,
   "metadata": {
    "ExecuteTime": {
     "end_time": "2022-12-16T20:34:14.369273Z",
     "start_time": "2022-12-16T20:30:11.255580Z"
    }
   },
   "outputs": [
    {
     "data": {
      "application/vnd.jupyter.widget-view+json": {
       "model_id": "4333d3daa5634c0b8fa9316a8e72578f",
       "version_major": 2,
       "version_minor": 0
      },
      "text/plain": [
       "Downloading:   0%|          | 0.00/1.18k [00:00<?, ?B/s]"
      ]
     },
     "metadata": {},
     "output_type": "display_data"
    },
    {
     "data": {
      "application/vnd.jupyter.widget-view+json": {
       "model_id": "e9c43f6763b341f1893026e7816f37b2",
       "version_major": 2,
       "version_minor": 0
      },
      "text/plain": [
       "Downloading:   0%|          | 0.00/190 [00:00<?, ?B/s]"
      ]
     },
     "metadata": {},
     "output_type": "display_data"
    },
    {
     "data": {
      "application/vnd.jupyter.widget-view+json": {
       "model_id": "464c6b8f06ac42f4b11af8fcac9e5954",
       "version_major": 2,
       "version_minor": 0
      },
      "text/plain": [
       "Downloading:   0%|          | 0.00/10.6k [00:00<?, ?B/s]"
      ]
     },
     "metadata": {},
     "output_type": "display_data"
    },
    {
     "data": {
      "application/vnd.jupyter.widget-view+json": {
       "model_id": "4c1f9d7c2baf418e930760a655007862",
       "version_major": 2,
       "version_minor": 0
      },
      "text/plain": [
       "Downloading:   0%|          | 0.00/612 [00:00<?, ?B/s]"
      ]
     },
     "metadata": {},
     "output_type": "display_data"
    },
    {
     "data": {
      "application/vnd.jupyter.widget-view+json": {
       "model_id": "ddc15124d91e45a1ba2efca303718946",
       "version_major": 2,
       "version_minor": 0
      },
      "text/plain": [
       "Downloading:   0%|          | 0.00/116 [00:00<?, ?B/s]"
      ]
     },
     "metadata": {},
     "output_type": "display_data"
    },
    {
     "data": {
      "application/vnd.jupyter.widget-view+json": {
       "model_id": "26280fb4ef9d4e5a929c52d533f42e50",
       "version_major": 2,
       "version_minor": 0
      },
      "text/plain": [
       "Downloading:   0%|          | 0.00/39.3k [00:00<?, ?B/s]"
      ]
     },
     "metadata": {},
     "output_type": "display_data"
    },
    {
     "data": {
      "application/vnd.jupyter.widget-view+json": {
       "model_id": "0ced277a120347a09ce6a0a575ee053f",
       "version_major": 2,
       "version_minor": 0
      },
      "text/plain": [
       "Downloading:   0%|          | 0.00/90.9M [00:00<?, ?B/s]"
      ]
     },
     "metadata": {},
     "output_type": "display_data"
    },
    {
     "data": {
      "application/vnd.jupyter.widget-view+json": {
       "model_id": "82052bf1325b43f9ad1852ab262e5689",
       "version_major": 2,
       "version_minor": 0
      },
      "text/plain": [
       "Downloading:   0%|          | 0.00/53.0 [00:00<?, ?B/s]"
      ]
     },
     "metadata": {},
     "output_type": "display_data"
    },
    {
     "data": {
      "application/vnd.jupyter.widget-view+json": {
       "model_id": "262e5d0c6fd34232b45a1d10f4d6b46c",
       "version_major": 2,
       "version_minor": 0
      },
      "text/plain": [
       "Downloading:   0%|          | 0.00/112 [00:00<?, ?B/s]"
      ]
     },
     "metadata": {},
     "output_type": "display_data"
    },
    {
     "data": {
      "application/vnd.jupyter.widget-view+json": {
       "model_id": "c9808e837da34bd396fd84f47e4e4774",
       "version_major": 2,
       "version_minor": 0
      },
      "text/plain": [
       "Downloading:   0%|          | 0.00/466k [00:00<?, ?B/s]"
      ]
     },
     "metadata": {},
     "output_type": "display_data"
    },
    {
     "data": {
      "application/vnd.jupyter.widget-view+json": {
       "model_id": "d7212535ba42454d8b8bbd6aa35123e2",
       "version_major": 2,
       "version_minor": 0
      },
      "text/plain": [
       "Downloading:   0%|          | 0.00/350 [00:00<?, ?B/s]"
      ]
     },
     "metadata": {},
     "output_type": "display_data"
    },
    {
     "data": {
      "application/vnd.jupyter.widget-view+json": {
       "model_id": "5afbbd1804ac4adbb844b2ab9fa6c719",
       "version_major": 2,
       "version_minor": 0
      },
      "text/plain": [
       "Downloading:   0%|          | 0.00/13.2k [00:00<?, ?B/s]"
      ]
     },
     "metadata": {},
     "output_type": "display_data"
    },
    {
     "data": {
      "application/vnd.jupyter.widget-view+json": {
       "model_id": "407acffdb58a483aaf639d3cd19de568",
       "version_major": 2,
       "version_minor": 0
      },
      "text/plain": [
       "Downloading:   0%|          | 0.00/232k [00:00<?, ?B/s]"
      ]
     },
     "metadata": {},
     "output_type": "display_data"
    },
    {
     "data": {
      "application/vnd.jupyter.widget-view+json": {
       "model_id": "bdface75f64746459f32a9f6181cfe90",
       "version_major": 2,
       "version_minor": 0
      },
      "text/plain": [
       "Downloading:   0%|          | 0.00/349 [00:00<?, ?B/s]"
      ]
     },
     "metadata": {},
     "output_type": "display_data"
    }
   ],
   "source": [
    "kw_model = KeyBERT(model='all-MiniLM-L6-v2')"
   ]
  },
  {
   "cell_type": "code",
   "execution_count": 22,
   "metadata": {
    "ExecuteTime": {
     "end_time": "2022-12-16T20:51:38.995593Z",
     "start_time": "2022-12-16T20:51:38.847112Z"
    }
   },
   "outputs": [
    {
     "name": "stdout",
     "output_type": "stream",
     "text": [
      "\n",
      "REVIEW TEXT:\n",
      "I used it for my Galaxy S4 for a good 6 months without any problems. And just today.. It's died. Won't work at all, can't recover any files, can't even format it to re-use it. It is now a worthless tiny chip... Thanks, Kingston. Won't be using this product again. Any one else who plans on using this for a phone, especially a Samsung, I would recommend you buy Samsung's brand for the SD card. I should have done that from the start, but I wasn't even aware they made an SD card brand at the time. (I should have known.. Samsung makes everything!)\n",
      "\n",
      "TITLE OF REVIEW:\n",
      "Died after about 6 months\n",
      "\n",
      "\n",
      "\n"
     ]
    },
    {
     "data": {
      "text/html": [
       "<pre style=\"white-space:pre;overflow-x:auto;line-height:normal;font-family:Menlo,'DejaVu Sans Mono',consolas,'Courier New',monospace\">used it for my <span style=\"color: #000000; text-decoration-color: #000000; background-color: #ffff00\">Galaxy</span> <span style=\"color: #000000; text-decoration-color: #000000; background-color: #ffff00\">S4</span> for good months without any problems And just today It died Won work at all can recover \n",
       "any files can even format it to re use it It is now worthless tiny chip Thanks Kingston Won be using this product \n",
       "again Any one else who plans on using this for phone especially <span style=\"color: #000000; text-decoration-color: #000000; background-color: #ffff00\">Samsung</span> would recommend you buy <span style=\"color: #000000; text-decoration-color: #000000; background-color: #ffff00\">Samsung</span> brand for \n",
       "the <span style=\"color: #000000; text-decoration-color: #000000; background-color: #ffff00\">SD</span> <span style=\"color: #000000; text-decoration-color: #000000; background-color: #ffff00\">card</span> should have done that from the start but wasn even aware they made an <span style=\"color: #000000; text-decoration-color: #000000; background-color: #ffff00\">SD</span> <span style=\"color: #000000; text-decoration-color: #000000; background-color: #ffff00\">card</span> brand at the time should \n",
       "have known <span style=\"color: #000000; text-decoration-color: #000000; background-color: #ffff00\">Samsung</span> makes everything\n",
       "</pre>\n"
      ],
      "text/plain": [
       "used it for my \u001b[30;48;2;255;255;0mGalaxy\u001b[0m \u001b[30;48;2;255;255;0mS4\u001b[0m for good months without any problems And just today It died Won work at all can recover \n",
       "any files can even format it to re use it It is now worthless tiny chip Thanks Kingston Won be using this product \n",
       "again Any one else who plans on using this for phone especially \u001b[30;48;2;255;255;0mSamsung\u001b[0m would recommend you buy \u001b[30;48;2;255;255;0mSamsung\u001b[0m brand for \n",
       "the \u001b[30;48;2;255;255;0mSD\u001b[0m \u001b[30;48;2;255;255;0mcard\u001b[0m should have done that from the start but wasn even aware they made an \u001b[30;48;2;255;255;0mSD\u001b[0m \u001b[30;48;2;255;255;0mcard\u001b[0m brand at the time should \n",
       "have known \u001b[30;48;2;255;255;0mSamsung\u001b[0m makes everything\n"
      ]
     },
     "metadata": {},
     "output_type": "display_data"
    },
    {
     "data": {
      "text/plain": [
       "[('samsung', 0.4479),\n",
       " ('s4', 0.3849),\n",
       " ('galaxy', 0.3526),\n",
       " ('sd', 0.3294),\n",
       " ('card', 0.2491)]"
      ]
     },
     "execution_count": 22,
     "metadata": {},
     "output_type": "execute_result"
    }
   ],
   "source": [
    "some_text = get_random_review_text(df, 888)[0]\n",
    "\n",
    "kw_model.extract_keywords(\n",
    "    docs=some_text,\n",
    "    top_n=5,\n",
    "    keyphrase_ngram_range=(1,1),\n",
    "    candidates=None,\n",
    "    highlight=True\n",
    ")"
   ]
  },
  {
   "cell_type": "code",
   "execution_count": 23,
   "metadata": {
    "ExecuteTime": {
     "end_time": "2022-12-16T20:51:13.692855Z",
     "start_time": "2022-12-16T20:51:13.530286Z"
    }
   },
   "outputs": [
    {
     "name": "stdout",
     "output_type": "stream",
     "text": [
      "\n",
      "REVIEW TEXT:\n",
      "I used it for my Galaxy S4 for a good 6 months without any problems. And just today.. It's died. Won't work at all, can't recover any files, can't even format it to re-use it. It is now a worthless tiny chip... Thanks, Kingston. Won't be using this product again. Any one else who plans on using this for a phone, especially a Samsung, I would recommend you buy Samsung's brand for the SD card. I should have done that from the start, but I wasn't even aware they made an SD card brand at the time. (I should have known.. Samsung makes everything!)\n",
      "\n",
      "TITLE OF REVIEW:\n",
      "Died after about 6 months\n",
      "\n",
      "\n",
      "\n"
     ]
    },
    {
     "data": {
      "text/html": [
       "<pre style=\"white-space:pre;overflow-x:auto;line-height:normal;font-family:Menlo,'DejaVu Sans Mono',consolas,'Courier New',monospace\">used it for my <span style=\"color: #000000; text-decoration-color: #000000; background-color: #ffff00\">Galaxy S4</span> good months without any problems And just today It died Won work at all can recover any \n",
       "files can even format it to re use it It is now worthless tiny chip Thanks Kingston Won be using this product again\n",
       "Any one else who plans on using this for phone especially Samsung would recommend you <span style=\"color: #000000; text-decoration-color: #000000; background-color: #ffff00\">buy Samsung</span> for the <span style=\"color: #000000; text-decoration-color: #000000; background-color: #ffff00\">SD card</span> \n",
       "have done that from the start but wasn even aware they made an <span style=\"color: #000000; text-decoration-color: #000000; background-color: #ffff00\">SD card</span> at the time should have known Samsung makes \n",
       "everything\n",
       "</pre>\n"
      ],
      "text/plain": [
       "used it for my \u001b[30;48;2;255;255;0mGalaxy S4\u001b[0m good months without any problems And just today It died Won work at all can recover any \n",
       "files can even format it to re use it It is now worthless tiny chip Thanks Kingston Won be using this product again\n",
       "Any one else who plans on using this for phone especially Samsung would recommend you \u001b[30;48;2;255;255;0mbuy Samsung\u001b[0m for the \u001b[30;48;2;255;255;0mSD card\u001b[0m \n",
       "have done that from the start but wasn even aware they made an \u001b[30;48;2;255;255;0mSD card\u001b[0m at the time should have known Samsung makes \n",
       "everything\n"
      ]
     },
     "metadata": {},
     "output_type": "display_data"
    },
    {
     "data": {
      "text/plain": [
       "[('sd card', 0.5333),\n",
       " ('galaxy s4', 0.5265),\n",
       " ('samsung recommend', 0.4663),\n",
       " ('s4 good', 0.4268),\n",
       " ('buy samsung', 0.425)]"
      ]
     },
     "execution_count": 23,
     "metadata": {},
     "output_type": "execute_result"
    }
   ],
   "source": [
    "some_text = get_random_review_text(df, 888)[0]\n",
    "\n",
    "kw_model.extract_keywords(\n",
    "    docs=some_text,\n",
    "    top_n=5,\n",
    "    keyphrase_ngram_range=(2,2),\n",
    "    candidates=None,\n",
    "    highlight=True\n",
    ")"
   ]
  },
  {
   "cell_type": "code",
   "execution_count": 24,
   "metadata": {
    "ExecuteTime": {
     "end_time": "2022-12-16T20:50:20.692112Z",
     "start_time": "2022-12-16T20:50:20.535672Z"
    }
   },
   "outputs": [
    {
     "name": "stdout",
     "output_type": "stream",
     "text": [
      "\n",
      "REVIEW TEXT:\n",
      "I absolutely love it. While it doesn't have the bells and whistles of the other Ebook Readers, it does exactly what it is meant to do. It allows you to read books. I bought this as gateway into ebook technology and I love it. The unit fits into your hands nicely and is not heavy. The buttons on the side are helpful in turning the pages. It charges fast and the battery lasts a decent amount of time.\n",
      "\n",
      "TITLE OF REVIEW:\n",
      "Excellent Ebook Reader\n",
      "\n",
      "\n",
      "\n"
     ]
    },
    {
     "data": {
      "text/html": [
       "<pre style=\"white-space:pre;overflow-x:auto;line-height:normal;font-family:Menlo,'DejaVu Sans Mono',consolas,'Courier New',monospace\">absolutely love it While it doesn have the bells and whistles of the other <span style=\"color: #000000; text-decoration-color: #000000; background-color: #ffff00\">Ebook Readers</span> it does exactly what it is\n",
       "meant to do It allows you to read books bought this as gateway into <span style=\"color: #000000; text-decoration-color: #000000; background-color: #ffff00\">ebook technology</span> and love it The unit fits into\n",
       "your hands nicely and is not heavy The buttons on the side are helpful in turning the pages It charges fast and the\n",
       "battery lasts decent amount of time\n",
       "</pre>\n"
      ],
      "text/plain": [
       "absolutely love it While it doesn have the bells and whistles of the other \u001b[30;48;2;255;255;0mEbook Readers\u001b[0m it does exactly what it is\n",
       "meant to do It allows you to read books bought this as gateway into \u001b[30;48;2;255;255;0mebook technology\u001b[0m and love it The unit fits into\n",
       "your hands nicely and is not heavy The buttons on the side are helpful in turning the pages It charges fast and the\n",
       "battery lasts decent amount of time\n"
      ]
     },
     "metadata": {},
     "output_type": "display_data"
    },
    {
     "data": {
      "text/plain": [
       "[('ebook readers', 0.7201),\n",
       " ('gateway ebook technology', 0.6923),\n",
       " ('ebook technology', 0.677),\n",
       " ('ebook technology love', 0.6596),\n",
       " ('ebook readers does', 0.6505)]"
      ]
     },
     "execution_count": 24,
     "metadata": {},
     "output_type": "execute_result"
    }
   ],
   "source": [
    "some_text = get_random_review_text(df, 555)[0]\n",
    "\n",
    "kw_model.extract_keywords(\n",
    "    docs=some_text,\n",
    "    top_n=5,\n",
    "    keyphrase_ngram_range=(2,3),\n",
    "    candidates=None,\n",
    "    highlight=True\n",
    ")"
   ]
  },
  {
   "cell_type": "code",
   "execution_count": 25,
   "metadata": {
    "ExecuteTime": {
     "end_time": "2022-12-16T20:52:00.451740Z",
     "start_time": "2022-12-16T20:52:00.351680Z"
    }
   },
   "outputs": [
    {
     "name": "stdout",
     "output_type": "stream",
     "text": [
      "\n",
      "REVIEW TEXT:\n",
      "you can't beat the price and the installation was simple as can be. We installed it in our office and it is perfect! no problems and was completed in a matter of minutes\n",
      "\n",
      "TITLE OF REVIEW:\n",
      "Awesome!\n",
      "\n",
      "\n",
      "\n"
     ]
    },
    {
     "data": {
      "text/html": [
       "<pre style=\"white-space:pre;overflow-x:auto;line-height:normal;font-family:Menlo,'DejaVu Sans Mono',consolas,'Courier New',monospace\">you can beat the price and the installation was simple as can be We installed it in our office and it is perfect no\n",
       "problems and was completed in matter of minutes\n",
       "</pre>\n"
      ],
      "text/plain": [
       "you can beat the price and the installation was simple as can be We installed it in our office and it is perfect no\n",
       "problems and was completed in matter of minutes\n"
      ]
     },
     "metadata": {},
     "output_type": "display_data"
    },
    {
     "data": {
      "text/plain": [
       "[('price installation simple', 0.7034),\n",
       " ('price installation simple installed', 0.6983),\n",
       " ('price installation', 0.6701),\n",
       " ('beat price installation simple', 0.5306),\n",
       " ('beat price installation', 0.5053)]"
      ]
     },
     "execution_count": 25,
     "metadata": {},
     "output_type": "execute_result"
    }
   ],
   "source": [
    "some_text = get_random_review_text(df, 100)[0]\n",
    "\n",
    "kw_model.extract_keywords(\n",
    "    docs=some_text,\n",
    "    top_n=5,\n",
    "    keyphrase_ngram_range=(2,4),\n",
    "    candidates=None,\n",
    "    highlight=True\n",
    ")"
   ]
  },
  {
   "cell_type": "markdown",
   "metadata": {},
   "source": [
    "### Try to find collocations: nltk ...CollocationFinder"
   ]
  },
  {
   "cell_type": "markdown",
   "metadata": {},
   "source": [
    "https://github.com/named-entity/hse-nlp/blob/master/4th_year/Slides/2_Collocations.ipynb"
   ]
  },
  {
   "cell_type": "markdown",
   "metadata": {},
   "source": [
    "Also useful: https://www.nltk.org/howto/collocations.html"
   ]
  },
  {
   "cell_type": "markdown",
   "metadata": {},
   "source": [
    "#### split text to words"
   ]
  },
  {
   "cell_type": "markdown",
   "metadata": {},
   "source": [
    "https://www.nltk.org/_modules/nltk/tokenize/regexp.html"
   ]
  },
  {
   "cell_type": "code",
   "execution_count": 26,
   "metadata": {
    "ExecuteTime": {
     "end_time": "2022-12-16T20:53:26.205984Z",
     "start_time": "2022-12-16T20:53:26.187198Z"
    }
   },
   "outputs": [],
   "source": [
    "from nltk.tokenize import RegexpTokenizer"
   ]
  },
  {
   "cell_type": "code",
   "execution_count": 27,
   "metadata": {
    "ExecuteTime": {
     "end_time": "2022-12-16T20:53:27.334989Z",
     "start_time": "2022-12-16T20:53:27.317004Z"
    }
   },
   "outputs": [],
   "source": [
    "tokenizer = RegexpTokenizer(r'\\w+')"
   ]
  },
  {
   "cell_type": "markdown",
   "metadata": {},
   "source": [
    "#### reject useless morph info of word"
   ]
  },
  {
   "cell_type": "markdown",
   "metadata": {},
   "source": [
    "https://nlpub.ru/Pymorphy"
   ]
  },
  {
   "cell_type": "code",
   "execution_count": 28,
   "metadata": {
    "ExecuteTime": {
     "end_time": "2022-12-16T20:53:28.144128Z",
     "start_time": "2022-12-16T20:53:28.091294Z"
    }
   },
   "outputs": [],
   "source": [
    "from pymorphy2 import MorphAnalyzer"
   ]
  },
  {
   "cell_type": "code",
   "execution_count": 29,
   "metadata": {
    "ExecuteTime": {
     "end_time": "2022-12-16T20:53:28.993790Z",
     "start_time": "2022-12-16T20:53:28.824964Z"
    }
   },
   "outputs": [],
   "source": [
    "m = MorphAnalyzer()"
   ]
  },
  {
   "cell_type": "markdown",
   "metadata": {
    "ExecuteTime": {
     "end_time": "2022-12-16T20:55:14.959196Z",
     "start_time": "2022-12-16T20:55:14.951083Z"
    }
   },
   "source": [
    "#### prepare text"
   ]
  },
  {
   "cell_type": "code",
   "execution_count": 30,
   "metadata": {
    "ExecuteTime": {
     "end_time": "2022-12-16T21:18:37.547085Z",
     "start_time": "2022-12-16T21:18:37.531149Z"
    }
   },
   "outputs": [],
   "source": [
    "def normalize(text, verbose=False):\n",
    "    # Take input text and return list of lemmas\n",
    "    lemmas = []\n",
    "    for t in tokenizer.tokenize(text):\n",
    "        lemmas.append(m.parse(t)[0].normal_form)\n",
    "    \n",
    "    if verbose:\n",
    "        print('REVIEW AFTER tokenizer and morph norm')\n",
    "        print(lemmas)\n",
    "        print('\\n')\n",
    "    \n",
    "    return lemmas"
   ]
  },
  {
   "cell_type": "code",
   "execution_count": 31,
   "metadata": {
    "ExecuteTime": {
     "end_time": "2022-12-16T21:18:38.146298Z",
     "start_time": "2022-12-16T21:18:38.130815Z"
    }
   },
   "outputs": [
    {
     "name": "stdout",
     "output_type": "stream",
     "text": [
      "\n",
      "REVIEW TEXT:\n",
      "I used it for my Galaxy S4 for a good 6 months without any problems. And just today.. It's died. Won't work at all, can't recover any files, can't even format it to re-use it. It is now a worthless tiny chip... Thanks, Kingston. Won't be using this product again. Any one else who plans on using this for a phone, especially a Samsung, I would recommend you buy Samsung's brand for the SD card. I should have done that from the start, but I wasn't even aware they made an SD card brand at the time. (I should have known.. Samsung makes everything!)\n",
      "\n",
      "TITLE OF REVIEW:\n",
      "Died after about 6 months\n",
      "\n",
      "\n",
      "\n",
      "REVIEW AFTER tokenizer and morph norm\n",
      "['i', 'used', 'it', 'for', 'my', 'galaxy', 's4', 'for', 'a', 'good', '6', 'months', 'without', 'any', 'problems', 'and', 'just', 'today', 'it', 's', 'died', 'won', 't', 'work', 'at', 'all', 'can', 't', 'recover', 'any', 'files', 'can', 't', 'even', 'format', 'it', 'to', 're', 'use', 'it', 'it', 'is', 'now', 'a', 'worthless', 'tiny', 'chip', 'thanks', 'kingston', 'won', 't', 'be', 'using', 'this', 'product', 'again', 'any', 'one', 'else', 'who', 'plans', 'on', 'using', 'this', 'for', 'a', 'phone', 'especially', 'a', 'samsung', 'i', 'would', 'recommend', 'you', 'buy', 'samsung', 's', 'brand', 'for', 'the', 'sd', 'card', 'i', 'should', 'have', 'done', 'that', 'from', 'the', 'start', 'but', 'i', 'wasn', 't', 'even', 'aware', 'they', 'made', 'an', 'sd', 'card', 'brand', 'at', 'the', 'time', 'i', 'should', 'have', 'known', 'samsung', 'makes', 'everything']\n",
      "\n",
      "\n"
     ]
    }
   ],
   "source": [
    "some_text = get_random_review_text(df, 888)[0]\n",
    "\n",
    "some_text = normalize(some_text, True)"
   ]
  },
  {
   "cell_type": "markdown",
   "metadata": {},
   "source": [
    "#### Find collocations!"
   ]
  },
  {
   "cell_type": "code",
   "execution_count": 32,
   "metadata": {
    "ExecuteTime": {
     "end_time": "2022-12-16T21:12:53.264644Z",
     "start_time": "2022-12-16T21:12:53.247389Z"
    }
   },
   "outputs": [],
   "source": [
    "import nltk\n",
    "from nltk.collocations import *"
   ]
  },
  {
   "cell_type": "code",
   "execution_count": 33,
   "metadata": {},
   "outputs": [],
   "source": [
    "# Коллекция метрик\n",
    "bigram_measures = nltk.collocations.BigramAssocMeasures()"
   ]
  },
  {
   "cell_type": "code",
   "execution_count": 34,
   "metadata": {
    "ExecuteTime": {
     "end_time": "2022-12-16T21:31:59.244166Z",
     "start_time": "2022-12-16T21:31:59.228590Z"
    }
   },
   "outputs": [
    {
     "name": "stdout",
     "output_type": "stream",
     "text": [
      "\n",
      "REVIEW TEXT:\n",
      "Once I replace it's crippled version of Android OS, and replaced it with a Cyanogenmod version of Android, I found the tablet to be very capable. The only negative is that it is a little on the heavy side.\n",
      "\n",
      "TITLE OF REVIEW:\n",
      "Good for the money\n",
      "\n",
      "\n",
      "\n"
     ]
    },
    {
     "data": {
      "text/plain": [
       "[('and', 'replaced'),\n",
       " ('be', 'very'),\n",
       " ('heavy', 'side'),\n",
       " ('little', 'on'),\n",
       " ('only', 'negative'),\n",
       " ('os', 'and'),\n",
       " ('s', 'crippled'),\n",
       " ('tablet', 'to'),\n",
       " ('to', 'be'),\n",
       " ('very', 'capable')]"
      ]
     },
     "execution_count": 34,
     "metadata": {},
     "output_type": "execute_result"
    }
   ],
   "source": [
    "some_texts = [\n",
    "    normalize(get_random_review_text(df, 444)[0]),\n",
    "]\n",
    "\n",
    "# Экстрактор коллокаций\n",
    "finder = BigramCollocationFinder.from_documents(some_texts)\n",
    "finder.nbest(bigram_measures.pmi, 10)"
   ]
  },
  {
   "cell_type": "code",
   "execution_count": 35,
   "metadata": {
    "ExecuteTime": {
     "end_time": "2022-12-16T21:31:32.042184Z",
     "start_time": "2022-12-16T21:31:32.024284Z"
    }
   },
   "outputs": [
    {
     "name": "stdout",
     "output_type": "stream",
     "text": [
      "\n",
      "REVIEW TEXT:\n",
      "Once I replace it's crippled version of Android OS, and replaced it with a Cyanogenmod version of Android, I found the tablet to be very capable. The only negative is that it is a little on the heavy side.\n",
      "\n",
      "TITLE OF REVIEW:\n",
      "Good for the money\n",
      "\n",
      "\n",
      "\n"
     ]
    },
    {
     "data": {
      "text/plain": [
       "[(('of', 'android'), 15.8812194676698),\n",
       " (('version', 'of'), 15.8812194676698),\n",
       " (('and', 'replaced'), 9.352547931002492),\n",
       " (('be', 'very'), 9.352547931002492),\n",
       " (('heavy', 'side'), 9.352547931002492),\n",
       " (('little', 'on'), 9.352547931002492),\n",
       " (('only', 'negative'), 9.352547931002492),\n",
       " (('os', 'and'), 9.352547931002492),\n",
       " (('s', 'crippled'), 9.352547931002492),\n",
       " (('tablet', 'to'), 9.352547931002492),\n",
       " (('to', 'be'), 9.352547931002492),\n",
       " (('very', 'capable'), 9.352547931002492),\n",
       " (('a', 'cyanogenmod'), 6.579959208762711),\n",
       " (('a', 'little'), 6.579959208762711),\n",
       " (('android', 'os'), 6.579959208762711),\n",
       " (('crippled', 'version'), 6.579959208762711),\n",
       " (('cyanogenmod', 'version'), 6.579959208762711),\n",
       " (('i', 'found'), 6.579959208762711),\n",
       " (('i', 'replace'), 6.579959208762711),\n",
       " (('is', 'that'), 6.579959208762711),\n",
       " (('negative', 'is'), 6.579959208762711),\n",
       " (('once', 'i'), 6.579959208762711),\n",
       " (('with', 'a'), 6.579959208762711),\n",
       " (('capable', 'the'), 5.5334629212336),\n",
       " (('found', 'the'), 5.5334629212336),\n",
       " (('it', 's'), 5.5334629212336),\n",
       " (('it', 'with'), 5.5334629212336),\n",
       " (('on', 'the'), 5.5334629212336),\n",
       " (('replace', 'it'), 5.5334629212336),\n",
       " (('replaced', 'it'), 5.5334629212336),\n",
       " (('that', 'it'), 5.5334629212336),\n",
       " (('the', 'heavy'), 5.5334629212336),\n",
       " (('the', 'only'), 5.5334629212336),\n",
       " (('the', 'tablet'), 5.5334629212336),\n",
       " (('android', 'i'), 3.860008141897313),\n",
       " (('is', 'a'), 3.860008141897313),\n",
       " (('it', 'is'), 2.8675724910682416)]"
      ]
     },
     "execution_count": 35,
     "metadata": {},
     "output_type": "execute_result"
    }
   ],
   "source": [
    "some_texts = [\n",
    "    normalize(get_random_review_text(df, 444)[0]),\n",
    "]\n",
    "\n",
    "finder = BigramCollocationFinder.from_documents(some_texts)\n",
    "finder.score_ngrams(bigram_measures.likelihood_ratio)"
   ]
  },
  {
   "cell_type": "code",
   "execution_count": 36,
   "metadata": {
    "ExecuteTime": {
     "end_time": "2022-12-16T21:33:35.074233Z",
     "start_time": "2022-12-16T21:33:35.020666Z"
    }
   },
   "outputs": [
    {
     "name": "stdout",
     "output_type": "stream",
     "text": [
      "\n",
      "REVIEW TEXT:\n",
      "I used it for my Galaxy S4 for a good 6 months without any problems. And just today.. It's died. Won't work at all, can't recover any files, can't even format it to re-use it. It is now a worthless tiny chip... Thanks, Kingston. Won't be using this product again. Any one else who plans on using this for a phone, especially a Samsung, I would recommend you buy Samsung's brand for the SD card. I should have done that from the start, but I wasn't even aware they made an SD card brand at the time. (I should have known.. Samsung makes everything!)\n",
      "\n",
      "TITLE OF REVIEW:\n",
      "Died after about 6 months\n",
      "\n",
      "\n",
      "\n",
      "\n",
      "REVIEW TEXT:\n",
      "I bought the 32 gig. card for just that purpose, My Samsung phone, takes as good pictures as most cameras. In fact I like the camera feature better than all the other stuff on the s-4. I would buy it again and again if I needed a lot of memory. I recommend this item to anyone who has run out of memory for pictures or any thing that needs to be stored out from the internal memory of the camera. I like to take moving photos with my Samsung, and those 8 second runs take a lot of memory, now I don't have to worry and running out of memory\n",
      "\n",
      "TITLE OF REVIEW:\n",
      "I take lots of pictures with my Galaxy 4\n",
      "\n",
      "\n",
      "\n",
      "\n",
      "REVIEW TEXT:\n",
      "We bought two of these micro cards for my wife's new Samsung Galaxy 4 cell phone since she takes a lot of pictures and we wanted a second micro card for backup.  All I can say is that the card works well in the Samsung cell phone.\n",
      "\n",
      "TITLE OF REVIEW:\n",
      "Quality product from Kingston\n",
      "\n",
      "\n",
      "\n"
     ]
    },
    {
     "data": {
      "text/plain": [
       "[(('32', 'gig'), 8.08746284125034),\n",
       " (('6', 'months'), 8.08746284125034),\n",
       " (('aware', 'they'), 8.08746284125034),\n",
       " (('better', 'than'), 8.08746284125034),\n",
       " (('chip', 'thanks'), 8.08746284125034),\n",
       " (('feature', 'better'), 8.08746284125034),\n",
       " (('has', 'run'), 8.08746284125034),\n",
       " (('made', 'an'), 8.08746284125034),\n",
       " (('makes', 'everything'), 8.08746284125034),\n",
       " (('months', 'without'), 8.08746284125034),\n",
       " (('most', 'cameras'), 8.08746284125034),\n",
       " (('moving', 'photos'), 8.08746284125034),\n",
       " (('one', 'else'), 8.08746284125034),\n",
       " (('other', 'stuff'), 8.08746284125034),\n",
       " (('photos', 'with'), 8.08746284125034),\n",
       " (('re', 'use'), 8.08746284125034),\n",
       " (('since', 'she'), 8.08746284125034),\n",
       " (('start', 'but'), 8.08746284125034),\n",
       " (('thanks', 'kingston'), 8.08746284125034),\n",
       " (('they', 'made'), 8.08746284125034),\n",
       " (('those', '8'), 8.08746284125034),\n",
       " (('tiny', 'chip'), 8.08746284125034),\n",
       " (('works', 'well'), 8.08746284125034),\n",
       " (('worthless', 'tiny'), 8.08746284125034),\n",
       " (('8', 'second'), 7.087462841250341),\n",
       " (('an', 'sd'), 7.087462841250341),\n",
       " (('anyone', 'who'), 7.087462841250341),\n",
       " (('as', 'most'), 7.087462841250341),\n",
       " (('be', 'stored'), 7.087462841250341),\n",
       " (('bought', 'two'), 7.087462841250341),\n",
       " (('camera', 'feature'), 7.087462841250341),\n",
       " (('cameras', 'in'), 7.087462841250341),\n",
       " (('died', 'won'), 7.087462841250341),\n",
       " (('else', 'who'), 7.087462841250341),\n",
       " (('even', 'aware'), 7.087462841250341),\n",
       " (('even', 'format'), 7.087462841250341),\n",
       " (('galaxy', 's4'), 7.087462841250341),\n",
       " (('good', '6'), 7.087462841250341),\n",
       " (('in', 'fact'), 7.087462841250341),\n",
       " (('just', 'today'), 7.087462841250341),\n",
       " (('kingston', 'won'), 7.087462841250341),\n",
       " (('micro', 'cards'), 7.087462841250341),\n",
       " (('plans', 'on'), 7.087462841250341),\n",
       " (('recommend', 'you'), 7.087462841250341),\n",
       " (('runs', 'take'), 7.087462841250341),\n",
       " (('say', 'is'), 7.087462841250341),\n",
       " (('second', 'runs'), 7.087462841250341),\n",
       " (('she', 'takes'), 7.087462841250341),\n",
       " (('stuff', 'on'), 7.087462841250341),\n",
       " (('take', 'moving'), 7.087462841250341),\n",
       " (('these', 'micro'), 7.087462841250341),\n",
       " (('we', 'wanted'), 7.087462841250341),\n",
       " (('well', 'in'), 7.087462841250341),\n",
       " (('who', 'has'), 7.087462841250341),\n",
       " (('who', 'plans'), 7.087462841250341),\n",
       " (('work', 'at'), 7.087462841250341),\n",
       " (('you', 'buy'), 7.087462841250341),\n",
       " (('again', 'if'), 6.502500340529185),\n",
       " (('backup', 'all'), 6.502500340529185),\n",
       " (('can', 'say'), 6.502500340529185),\n",
       " (('files', 'can'), 6.502500340529185),\n",
       " (('have', 'done'), 6.502500340529185),\n",
       " (('have', 'known'), 6.502500340529185),\n",
       " (('pictures', 'or'), 6.502500340529185),\n",
       " (('product', 'again'), 6.502500340529185),\n",
       " (('run', 'out'), 6.502500340529185),\n",
       " (('running', 'out'), 6.502500340529185),\n",
       " (('stored', 'out'), 6.502500340529185),\n",
       " (('than', 'all'), 6.502500340529185),\n",
       " (('this', 'item'), 6.502500340529185),\n",
       " (('this', 'product'), 6.502500340529185),\n",
       " (('should', 'have'), 6.502500340529183),\n",
       " (('using', 'this'), 6.502500340529183),\n",
       " (('4', 'cell'), 6.087462841250341),\n",
       " (('any', 'files'), 6.087462841250341),\n",
       " (('any', 'one'), 6.087462841250341),\n",
       " (('any', 'problems'), 6.087462841250341),\n",
       " (('any', 'thing'), 6.087462841250341),\n",
       " (('as', 'good'), 6.087462841250341),\n",
       " (('be', 'using'), 6.087462841250341),\n",
       " (('brand', 'at'), 6.087462841250341),\n",
       " (('done', 'that'), 6.087462841250341),\n",
       " (('galaxy', '4'), 6.087462841250341),\n",
       " (('is', 'now'), 6.087462841250341),\n",
       " (('my', 'wife'), 6.087462841250341),\n",
       " (('on', 'using'), 6.087462841250341),\n",
       " (('or', 'any'), 6.087462841250341),\n",
       " (('phone', 'especially'), 6.087462841250341),\n",
       " (('phone', 'since'), 6.087462841250341),\n",
       " (('purpose', 'my'), 6.087462841250341),\n",
       " (('recover', 'any'), 6.087462841250341),\n",
       " (('s', 'died'), 6.087462841250341),\n",
       " (('s', 'new'), 6.087462841250341),\n",
       " (('second', 'micro'), 6.087462841250341),\n",
       " (('takes', 'as'), 6.087462841250341),\n",
       " (('that', 'needs'), 6.087462841250341),\n",
       " (('that', 'purpose'), 6.087462841250341),\n",
       " (('thing', 'that'), 6.087462841250341),\n",
       " (('we', 'bought'), 6.087462841250341),\n",
       " (('wife', 's'), 6.087462841250341),\n",
       " (('with', 'my'), 6.087462841250341),\n",
       " (('without', 'any'), 6.087462841250341),\n",
       " (('would', 'buy'), 6.087462841250341),\n",
       " (('would', 'recommend'), 6.087462841250341),\n",
       " (('cell', 'phone'), 6.087462841250339),\n",
       " (('and', 'running'), 5.765534746362979),\n",
       " (('and', 'those'), 5.765534746362979),\n",
       " (('card', 'works'), 5.765534746362979),\n",
       " (('gig', 'card'), 5.765534746362979),\n",
       " (('internal', 'memory'), 5.765534746362979),\n",
       " (('item', 'to'), 5.765534746362979),\n",
       " (('needs', 'to'), 5.765534746362979),\n",
       " (('problems', 'and'), 5.765534746362979),\n",
       " (('to', 'anyone'), 5.765534746362979),\n",
       " (('to', 're'), 5.765534746362979),\n",
       " (('to', 'worry'), 5.765534746362979),\n",
       " (('worry', 'and'), 5.765534746362979),\n",
       " (('sd', 'card'), 5.7655347463629765),\n",
       " (('at', 'all'), 5.502500340529185),\n",
       " (('don', 't'), 5.502500340529185),\n",
       " (('format', 'it'), 5.502500340529185),\n",
       " (('good', 'pictures'), 5.502500340529185),\n",
       " (('out', 'from'), 5.502500340529185),\n",
       " (('pictures', 'as'), 5.502500340529185),\n",
       " (('recommend', 'this'), 5.502500340529185),\n",
       " (('t', 'recover'), 5.502500340529185),\n",
       " (('t', 'work'), 5.502500340529185),\n",
       " (('today', 'it'), 5.502500340529185),\n",
       " (('use', 'it'), 5.502500340529185),\n",
       " (('used', 'it'), 5.502500340529185),\n",
       " (('wasn', 't'), 5.502500340529185),\n",
       " (('t', 'even'), 5.502500340529183),\n",
       " (('won', 't'), 5.502500340529183),\n",
       " (('known', 'samsung'), 5.280107919192737),\n",
       " (('new', 'samsung'), 5.280107919192737),\n",
       " (('of', 'these'), 5.280107919192737),\n",
       " (('samsung', 'makes'), 5.280107919192737),\n",
       " (('two', 'of'), 5.280107919192737),\n",
       " (('lot', 'of'), 5.2801079191927345),\n",
       " (('a', 'worthless'), 5.087462841250341),\n",
       " (('cards', 'for'), 5.087462841250341),\n",
       " (('especially', 'a'), 5.087462841250341),\n",
       " (('for', 'backup'), 5.087462841250341),\n",
       " (('is', 'that'), 5.087462841250341),\n",
       " (('just', 'that'), 5.087462841250341),\n",
       " (('my', 'galaxy'), 5.087462841250341),\n",
       " (('needed', 'a'), 5.087462841250341),\n",
       " (('phone', 'takes'), 5.087462841250341),\n",
       " (('s', '4'), 5.087462841250341),\n",
       " (('s', 'brand'), 5.087462841250341),\n",
       " (('s4', 'for'), 5.087462841250341),\n",
       " (('that', 'from'), 5.087462841250341),\n",
       " (('wanted', 'a'), 5.087462841250341),\n",
       " (('a', 'lot'), 5.087462841250338),\n",
       " (('of', 'memory'), 4.958179824305373),\n",
       " (('all', 'can'), 4.917537839808029),\n",
       " (('can', 't'), 4.917537839808027),\n",
       " (('and', 'just'), 4.765534746362978),\n",
       " (('and', 'we'), 4.765534746362978),\n",
       " (('card', 'brand'), 4.765534746362978),\n",
       " (('like', 'to'), 4.765534746362978),\n",
       " (('memory', 'now'), 4.765534746362978),\n",
       " (('micro', 'card'), 4.765534746362978),\n",
       " (('to', 'be'), 4.765534746362978),\n",
       " (('to', 'take'), 4.765534746362978),\n",
       " (('out', 'of'), 4.695145418471578),\n",
       " (('the', '32'), 4.628031222613043),\n",
       " (('the', 'internal'), 4.628031222613043),\n",
       " (('the', 'other'), 4.628031222613043),\n",
       " (('the', 'start'), 4.628031222613043),\n",
       " (('the', 'time'), 4.628031222613043),\n",
       " (('from', 'the'), 4.628031222613042),\n",
       " (('the', 'camera'), 4.628031222613042),\n",
       " (('again', 'any'), 4.502500340529185),\n",
       " (('buy', 'it'), 4.502500340529185),\n",
       " (('it', 'is'), 4.502500340529185),\n",
       " (('t', 'be'), 4.502500340529185),\n",
       " (('but', 'i'), 4.387023123109248),\n",
       " (('fact', 'i'), 4.387023123109248),\n",
       " (('i', 'don'), 4.387023123109248),\n",
       " (('i', 'needed'), 4.387023123109248),\n",
       " (('i', 'used'), 4.387023123109248),\n",
       " (('i', 'wasn'), 4.387023123109248),\n",
       " (('if', 'i'), 4.387023123109248),\n",
       " (('time', 'i'), 4.387023123109248),\n",
       " (('i', 'like'), 4.3870231231092465),\n",
       " (('i', 'should'), 4.3870231231092465),\n",
       " (('i', 'would'), 4.3870231231092465),\n",
       " (('buy', 'samsung'), 4.280107919192737),\n",
       " (('samsung', 'cell'), 4.280107919192737),\n",
       " (('samsung', 'galaxy'), 4.280107919192737),\n",
       " (('my', 'samsung'), 4.280107919192735),\n",
       " (('again', 'and'), 4.180572245641822),\n",
       " (('and', 'again'), 4.180572245641822),\n",
       " (('have', 'to'), 4.180572245641822),\n",
       " (('pictures', 'and'), 4.180572245641822),\n",
       " (('a', 'good'), 4.087462841250341),\n",
       " (('a', 'second'), 4.087462841250341),\n",
       " (('brand', 'for'), 4.087462841250341),\n",
       " (('for', 'just'), 4.087462841250341),\n",
       " (('now', 'a'), 4.087462841250341),\n",
       " (('take', 'a'), 4.087462841250341),\n",
       " (('takes', 'a'), 4.087462841250341),\n",
       " (('for', 'my'), 4.087462841250339),\n",
       " (('it', 'again'), 3.9175378398080287),\n",
       " (('t', 'have'), 3.9175378398080287),\n",
       " (('card', 'for'), 3.7655347463629765),\n",
       " (('of', 'pictures'), 3.69514541847158),\n",
       " (('at', 'the'), 3.6280312226130436),\n",
       " (('bought', 'the'), 3.6280312226130436),\n",
       " (('in', 'the'), 3.6280312226130436),\n",
       " (('like', 'the'), 3.6280312226130436),\n",
       " (('on', 'the'), 3.6280312226130436),\n",
       " (('the', 'sd'), 3.6280312226130436),\n",
       " (('for', 'pictures'), 3.502500340529184),\n",
       " (('it', 's'), 3.502500340529184),\n",
       " (('this', 'for'), 3.502500340529184),\n",
       " (('4', 'i'), 3.3870231231092482),\n",
       " (('camera', 'i'), 3.3870231231092482),\n",
       " (('i', 'bought'), 3.3870231231092482),\n",
       " (('i', 'recommend'), 3.3870231231092482),\n",
       " (('now', 'i'), 3.3870231231092482),\n",
       " (('samsung', 'phone'), 3.280107919192737),\n",
       " (('samsung', 's'), 3.280107919192737),\n",
       " (('it', 'to'), 3.180572245641822),\n",
       " (('a', 'phone'), 3.087462841250341),\n",
       " (('for', 'a'), 3.087462841250339),\n",
       " (('all', 'the'), 3.0430687218918875),\n",
       " (('memory', 'of'), 2.9581798243053745),\n",
       " (('samsung', 'and'), 2.9581798243053745),\n",
       " (('it', 'it'), 2.9175378398080287),\n",
       " (('all', 'i'), 2.802060622388092),\n",
       " (('i', 'can'), 2.802060622388092),\n",
       " (('memory', 'for'), 2.7655347463629782),\n",
       " (('that', 'the'), 2.6280312226130436),\n",
       " (('the', 's'), 2.6280312226130436),\n",
       " (('it', 'for'), 2.502500340529184),\n",
       " (('the', 'card'), 2.306103127725681),\n",
       " (('a', 'samsung'), 2.2801079191927363),\n",
       " (('card', 'i'), 2.0650950282218865),\n",
       " (('memory', 'i'), 2.0650950282218865),\n",
       " (('of', 'the'), 1.820676300555439),\n",
       " (('the', 'samsung'), 1.820676300555439),\n",
       " (('for', 'the'), 1.6280312226130427),\n",
       " (('samsung', 'i'), 1.5796682010516445)]"
      ]
     },
     "execution_count": 36,
     "metadata": {},
     "output_type": "execute_result"
    }
   ],
   "source": [
    "some_texts = [\n",
    "    normalize(get_random_review_text(df, 888)[0]),\n",
    "    normalize(get_random_review_text(df, 889)[0]),\n",
    "    normalize(get_random_review_text(df, 890)[0])\n",
    "]\n",
    "\n",
    "# Экстрактор коллокаций\n",
    "finder = BigramCollocationFinder.from_documents(some_texts)\n",
    "finder.score_ngrams(bigram_measures.pmi)"
   ]
  },
  {
   "cell_type": "markdown",
   "metadata": {},
   "source": [
    "#### Using freq filter "
   ]
  },
  {
   "cell_type": "code",
   "execution_count": 37,
   "metadata": {
    "ExecuteTime": {
     "end_time": "2022-12-16T21:35:16.730939Z",
     "start_time": "2022-12-16T21:35:16.682285Z"
    }
   },
   "outputs": [
    {
     "name": "stdout",
     "output_type": "stream",
     "text": [
      "\n",
      "REVIEW TEXT:\n",
      "I used it for my Galaxy S4 for a good 6 months without any problems. And just today.. It's died. Won't work at all, can't recover any files, can't even format it to re-use it. It is now a worthless tiny chip... Thanks, Kingston. Won't be using this product again. Any one else who plans on using this for a phone, especially a Samsung, I would recommend you buy Samsung's brand for the SD card. I should have done that from the start, but I wasn't even aware they made an SD card brand at the time. (I should have known.. Samsung makes everything!)\n",
      "\n",
      "TITLE OF REVIEW:\n",
      "Died after about 6 months\n",
      "\n",
      "\n",
      "\n",
      "\n",
      "REVIEW TEXT:\n",
      "I bought the 32 gig. card for just that purpose, My Samsung phone, takes as good pictures as most cameras. In fact I like the camera feature better than all the other stuff on the s-4. I would buy it again and again if I needed a lot of memory. I recommend this item to anyone who has run out of memory for pictures or any thing that needs to be stored out from the internal memory of the camera. I like to take moving photos with my Samsung, and those 8 second runs take a lot of memory, now I don't have to worry and running out of memory\n",
      "\n",
      "TITLE OF REVIEW:\n",
      "I take lots of pictures with my Galaxy 4\n",
      "\n",
      "\n",
      "\n",
      "\n",
      "REVIEW TEXT:\n",
      "We bought two of these micro cards for my wife's new Samsung Galaxy 4 cell phone since she takes a lot of pictures and we wanted a second micro card for backup.  All I can say is that the card works well in the Samsung cell phone.\n",
      "\n",
      "TITLE OF REVIEW:\n",
      "Quality product from Kingston\n",
      "\n",
      "\n",
      "\n"
     ]
    },
    {
     "data": {
      "text/plain": [
       "[(('32', 'gig'), 8.08746284125034),\n",
       " (('6', 'months'), 8.08746284125034),\n",
       " (('aware', 'they'), 8.08746284125034),\n",
       " (('better', 'than'), 8.08746284125034),\n",
       " (('chip', 'thanks'), 8.08746284125034),\n",
       " (('feature', 'better'), 8.08746284125034),\n",
       " (('has', 'run'), 8.08746284125034),\n",
       " (('made', 'an'), 8.08746284125034),\n",
       " (('makes', 'everything'), 8.08746284125034),\n",
       " (('months', 'without'), 8.08746284125034),\n",
       " (('most', 'cameras'), 8.08746284125034),\n",
       " (('moving', 'photos'), 8.08746284125034),\n",
       " (('one', 'else'), 8.08746284125034),\n",
       " (('other', 'stuff'), 8.08746284125034),\n",
       " (('photos', 'with'), 8.08746284125034),\n",
       " (('re', 'use'), 8.08746284125034),\n",
       " (('since', 'she'), 8.08746284125034),\n",
       " (('start', 'but'), 8.08746284125034),\n",
       " (('thanks', 'kingston'), 8.08746284125034),\n",
       " (('they', 'made'), 8.08746284125034),\n",
       " (('those', '8'), 8.08746284125034),\n",
       " (('tiny', 'chip'), 8.08746284125034),\n",
       " (('works', 'well'), 8.08746284125034),\n",
       " (('worthless', 'tiny'), 8.08746284125034),\n",
       " (('8', 'second'), 7.087462841250341),\n",
       " (('an', 'sd'), 7.087462841250341),\n",
       " (('anyone', 'who'), 7.087462841250341),\n",
       " (('as', 'most'), 7.087462841250341),\n",
       " (('be', 'stored'), 7.087462841250341),\n",
       " (('bought', 'two'), 7.087462841250341),\n",
       " (('camera', 'feature'), 7.087462841250341),\n",
       " (('cameras', 'in'), 7.087462841250341),\n",
       " (('died', 'won'), 7.087462841250341),\n",
       " (('else', 'who'), 7.087462841250341),\n",
       " (('even', 'aware'), 7.087462841250341),\n",
       " (('even', 'format'), 7.087462841250341),\n",
       " (('galaxy', 's4'), 7.087462841250341),\n",
       " (('good', '6'), 7.087462841250341),\n",
       " (('in', 'fact'), 7.087462841250341),\n",
       " (('just', 'today'), 7.087462841250341),\n",
       " (('kingston', 'won'), 7.087462841250341),\n",
       " (('micro', 'cards'), 7.087462841250341),\n",
       " (('plans', 'on'), 7.087462841250341),\n",
       " (('recommend', 'you'), 7.087462841250341),\n",
       " (('runs', 'take'), 7.087462841250341),\n",
       " (('say', 'is'), 7.087462841250341),\n",
       " (('second', 'runs'), 7.087462841250341),\n",
       " (('she', 'takes'), 7.087462841250341),\n",
       " (('stuff', 'on'), 7.087462841250341),\n",
       " (('take', 'moving'), 7.087462841250341),\n",
       " (('these', 'micro'), 7.087462841250341),\n",
       " (('we', 'wanted'), 7.087462841250341),\n",
       " (('well', 'in'), 7.087462841250341),\n",
       " (('who', 'has'), 7.087462841250341),\n",
       " (('who', 'plans'), 7.087462841250341),\n",
       " (('work', 'at'), 7.087462841250341),\n",
       " (('you', 'buy'), 7.087462841250341),\n",
       " (('again', 'if'), 6.502500340529185),\n",
       " (('backup', 'all'), 6.502500340529185),\n",
       " (('can', 'say'), 6.502500340529185),\n",
       " (('files', 'can'), 6.502500340529185),\n",
       " (('have', 'done'), 6.502500340529185),\n",
       " (('have', 'known'), 6.502500340529185),\n",
       " (('pictures', 'or'), 6.502500340529185),\n",
       " (('product', 'again'), 6.502500340529185),\n",
       " (('run', 'out'), 6.502500340529185),\n",
       " (('running', 'out'), 6.502500340529185),\n",
       " (('stored', 'out'), 6.502500340529185),\n",
       " (('than', 'all'), 6.502500340529185),\n",
       " (('this', 'item'), 6.502500340529185),\n",
       " (('this', 'product'), 6.502500340529185),\n",
       " (('should', 'have'), 6.502500340529183),\n",
       " (('using', 'this'), 6.502500340529183),\n",
       " (('4', 'cell'), 6.087462841250341),\n",
       " (('any', 'files'), 6.087462841250341),\n",
       " (('any', 'one'), 6.087462841250341),\n",
       " (('any', 'problems'), 6.087462841250341),\n",
       " (('any', 'thing'), 6.087462841250341),\n",
       " (('as', 'good'), 6.087462841250341),\n",
       " (('be', 'using'), 6.087462841250341),\n",
       " (('brand', 'at'), 6.087462841250341),\n",
       " (('done', 'that'), 6.087462841250341),\n",
       " (('galaxy', '4'), 6.087462841250341),\n",
       " (('is', 'now'), 6.087462841250341),\n",
       " (('my', 'wife'), 6.087462841250341),\n",
       " (('on', 'using'), 6.087462841250341),\n",
       " (('or', 'any'), 6.087462841250341),\n",
       " (('phone', 'especially'), 6.087462841250341),\n",
       " (('phone', 'since'), 6.087462841250341),\n",
       " (('purpose', 'my'), 6.087462841250341),\n",
       " (('recover', 'any'), 6.087462841250341),\n",
       " (('s', 'died'), 6.087462841250341),\n",
       " (('s', 'new'), 6.087462841250341),\n",
       " (('second', 'micro'), 6.087462841250341),\n",
       " (('takes', 'as'), 6.087462841250341),\n",
       " (('that', 'needs'), 6.087462841250341),\n",
       " (('that', 'purpose'), 6.087462841250341),\n",
       " (('thing', 'that'), 6.087462841250341),\n",
       " (('we', 'bought'), 6.087462841250341),\n",
       " (('wife', 's'), 6.087462841250341),\n",
       " (('with', 'my'), 6.087462841250341),\n",
       " (('without', 'any'), 6.087462841250341),\n",
       " (('would', 'buy'), 6.087462841250341),\n",
       " (('would', 'recommend'), 6.087462841250341),\n",
       " (('cell', 'phone'), 6.087462841250339),\n",
       " (('and', 'running'), 5.765534746362979),\n",
       " (('and', 'those'), 5.765534746362979),\n",
       " (('card', 'works'), 5.765534746362979),\n",
       " (('gig', 'card'), 5.765534746362979),\n",
       " (('internal', 'memory'), 5.765534746362979),\n",
       " (('item', 'to'), 5.765534746362979),\n",
       " (('needs', 'to'), 5.765534746362979),\n",
       " (('problems', 'and'), 5.765534746362979),\n",
       " (('to', 'anyone'), 5.765534746362979),\n",
       " (('to', 're'), 5.765534746362979),\n",
       " (('to', 'worry'), 5.765534746362979),\n",
       " (('worry', 'and'), 5.765534746362979),\n",
       " (('sd', 'card'), 5.7655347463629765),\n",
       " (('at', 'all'), 5.502500340529185),\n",
       " (('don', 't'), 5.502500340529185),\n",
       " (('format', 'it'), 5.502500340529185),\n",
       " (('good', 'pictures'), 5.502500340529185),\n",
       " (('out', 'from'), 5.502500340529185),\n",
       " (('pictures', 'as'), 5.502500340529185),\n",
       " (('recommend', 'this'), 5.502500340529185),\n",
       " (('t', 'recover'), 5.502500340529185),\n",
       " (('t', 'work'), 5.502500340529185),\n",
       " (('today', 'it'), 5.502500340529185),\n",
       " (('use', 'it'), 5.502500340529185),\n",
       " (('used', 'it'), 5.502500340529185),\n",
       " (('wasn', 't'), 5.502500340529185),\n",
       " (('t', 'even'), 5.502500340529183),\n",
       " (('won', 't'), 5.502500340529183),\n",
       " (('known', 'samsung'), 5.280107919192737),\n",
       " (('new', 'samsung'), 5.280107919192737),\n",
       " (('of', 'these'), 5.280107919192737),\n",
       " (('samsung', 'makes'), 5.280107919192737),\n",
       " (('two', 'of'), 5.280107919192737),\n",
       " (('lot', 'of'), 5.2801079191927345),\n",
       " (('a', 'worthless'), 5.087462841250341),\n",
       " (('cards', 'for'), 5.087462841250341),\n",
       " (('especially', 'a'), 5.087462841250341),\n",
       " (('for', 'backup'), 5.087462841250341),\n",
       " (('is', 'that'), 5.087462841250341),\n",
       " (('just', 'that'), 5.087462841250341),\n",
       " (('my', 'galaxy'), 5.087462841250341),\n",
       " (('needed', 'a'), 5.087462841250341),\n",
       " (('phone', 'takes'), 5.087462841250341),\n",
       " (('s', '4'), 5.087462841250341),\n",
       " (('s', 'brand'), 5.087462841250341),\n",
       " (('s4', 'for'), 5.087462841250341),\n",
       " (('that', 'from'), 5.087462841250341),\n",
       " (('wanted', 'a'), 5.087462841250341),\n",
       " (('a', 'lot'), 5.087462841250338),\n",
       " (('of', 'memory'), 4.958179824305373),\n",
       " (('all', 'can'), 4.917537839808029),\n",
       " (('can', 't'), 4.917537839808027),\n",
       " (('and', 'just'), 4.765534746362978),\n",
       " (('and', 'we'), 4.765534746362978),\n",
       " (('card', 'brand'), 4.765534746362978),\n",
       " (('like', 'to'), 4.765534746362978),\n",
       " (('memory', 'now'), 4.765534746362978),\n",
       " (('micro', 'card'), 4.765534746362978),\n",
       " (('to', 'be'), 4.765534746362978),\n",
       " (('to', 'take'), 4.765534746362978),\n",
       " (('out', 'of'), 4.695145418471578),\n",
       " (('the', '32'), 4.628031222613043),\n",
       " (('the', 'internal'), 4.628031222613043),\n",
       " (('the', 'other'), 4.628031222613043),\n",
       " (('the', 'start'), 4.628031222613043),\n",
       " (('the', 'time'), 4.628031222613043),\n",
       " (('from', 'the'), 4.628031222613042),\n",
       " (('the', 'camera'), 4.628031222613042),\n",
       " (('again', 'any'), 4.502500340529185),\n",
       " (('buy', 'it'), 4.502500340529185),\n",
       " (('it', 'is'), 4.502500340529185),\n",
       " (('t', 'be'), 4.502500340529185),\n",
       " (('but', 'i'), 4.387023123109248),\n",
       " (('fact', 'i'), 4.387023123109248),\n",
       " (('i', 'don'), 4.387023123109248),\n",
       " (('i', 'needed'), 4.387023123109248),\n",
       " (('i', 'used'), 4.387023123109248),\n",
       " (('i', 'wasn'), 4.387023123109248),\n",
       " (('if', 'i'), 4.387023123109248),\n",
       " (('time', 'i'), 4.387023123109248),\n",
       " (('i', 'like'), 4.3870231231092465),\n",
       " (('i', 'should'), 4.3870231231092465),\n",
       " (('i', 'would'), 4.3870231231092465),\n",
       " (('buy', 'samsung'), 4.280107919192737),\n",
       " (('samsung', 'cell'), 4.280107919192737),\n",
       " (('samsung', 'galaxy'), 4.280107919192737),\n",
       " (('my', 'samsung'), 4.280107919192735),\n",
       " (('again', 'and'), 4.180572245641822),\n",
       " (('and', 'again'), 4.180572245641822),\n",
       " (('have', 'to'), 4.180572245641822),\n",
       " (('pictures', 'and'), 4.180572245641822),\n",
       " (('a', 'good'), 4.087462841250341),\n",
       " (('a', 'second'), 4.087462841250341),\n",
       " (('brand', 'for'), 4.087462841250341),\n",
       " (('for', 'just'), 4.087462841250341),\n",
       " (('now', 'a'), 4.087462841250341),\n",
       " (('take', 'a'), 4.087462841250341),\n",
       " (('takes', 'a'), 4.087462841250341),\n",
       " (('for', 'my'), 4.087462841250339),\n",
       " (('it', 'again'), 3.9175378398080287),\n",
       " (('t', 'have'), 3.9175378398080287),\n",
       " (('card', 'for'), 3.7655347463629765),\n",
       " (('of', 'pictures'), 3.69514541847158),\n",
       " (('at', 'the'), 3.6280312226130436),\n",
       " (('bought', 'the'), 3.6280312226130436),\n",
       " (('in', 'the'), 3.6280312226130436),\n",
       " (('like', 'the'), 3.6280312226130436),\n",
       " (('on', 'the'), 3.6280312226130436),\n",
       " (('the', 'sd'), 3.6280312226130436),\n",
       " (('for', 'pictures'), 3.502500340529184),\n",
       " (('it', 's'), 3.502500340529184),\n",
       " (('this', 'for'), 3.502500340529184),\n",
       " (('4', 'i'), 3.3870231231092482),\n",
       " (('camera', 'i'), 3.3870231231092482),\n",
       " (('i', 'bought'), 3.3870231231092482),\n",
       " (('i', 'recommend'), 3.3870231231092482),\n",
       " (('now', 'i'), 3.3870231231092482),\n",
       " (('samsung', 'phone'), 3.280107919192737),\n",
       " (('samsung', 's'), 3.280107919192737),\n",
       " (('it', 'to'), 3.180572245641822),\n",
       " (('a', 'phone'), 3.087462841250341),\n",
       " (('for', 'a'), 3.087462841250339),\n",
       " (('all', 'the'), 3.0430687218918875),\n",
       " (('memory', 'of'), 2.9581798243053745),\n",
       " (('samsung', 'and'), 2.9581798243053745),\n",
       " (('it', 'it'), 2.9175378398080287),\n",
       " (('all', 'i'), 2.802060622388092),\n",
       " (('i', 'can'), 2.802060622388092),\n",
       " (('memory', 'for'), 2.7655347463629782),\n",
       " (('that', 'the'), 2.6280312226130436),\n",
       " (('the', 's'), 2.6280312226130436),\n",
       " (('it', 'for'), 2.502500340529184),\n",
       " (('the', 'card'), 2.306103127725681),\n",
       " (('a', 'samsung'), 2.2801079191927363),\n",
       " (('card', 'i'), 2.0650950282218865),\n",
       " (('memory', 'i'), 2.0650950282218865),\n",
       " (('of', 'the'), 1.820676300555439),\n",
       " (('the', 'samsung'), 1.820676300555439),\n",
       " (('for', 'the'), 1.6280312226130427),\n",
       " (('samsung', 'i'), 1.5796682010516445)]"
      ]
     },
     "execution_count": 37,
     "metadata": {},
     "output_type": "execute_result"
    }
   ],
   "source": [
    "some_texts = [\n",
    "    normalize(get_random_review_text(df, 888)[0]),\n",
    "    normalize(get_random_review_text(df, 889)[0]),\n",
    "    normalize(get_random_review_text(df, 890)[0])\n",
    "]\n",
    "\n",
    "# Экстрактор коллокаций\n",
    "finder = BigramCollocationFinder.from_documents(some_texts)\n",
    "finder.score_ngrams(bigram_measures.pmi)"
   ]
  },
  {
   "cell_type": "code",
   "execution_count": 38,
   "metadata": {
    "ExecuteTime": {
     "end_time": "2022-12-16T21:35:17.039639Z",
     "start_time": "2022-12-16T21:35:17.035061Z"
    }
   },
   "outputs": [],
   "source": [
    "finder.apply_freq_filter(2)"
   ]
  },
  {
   "cell_type": "code",
   "execution_count": 39,
   "metadata": {
    "ExecuteTime": {
     "end_time": "2022-12-16T21:35:17.971402Z",
     "start_time": "2022-12-16T21:35:17.956902Z"
    }
   },
   "outputs": [
    {
     "data": {
      "text/plain": [
       "[(('should', 'have'), 6.502500340529183),\n",
       " (('using', 'this'), 6.502500340529183),\n",
       " (('cell', 'phone'), 6.087462841250339),\n",
       " (('sd', 'card'), 5.7655347463629765),\n",
       " (('t', 'even'), 5.502500340529183),\n",
       " (('won', 't'), 5.502500340529183),\n",
       " (('lot', 'of'), 5.2801079191927345),\n",
       " (('a', 'lot'), 5.087462841250338),\n",
       " (('of', 'memory'), 4.958179824305373),\n",
       " (('can', 't'), 4.917537839808027),\n",
       " (('out', 'of'), 4.695145418471578),\n",
       " (('from', 'the'), 4.628031222613042),\n",
       " (('the', 'camera'), 4.628031222613042),\n",
       " (('i', 'like'), 4.3870231231092465),\n",
       " (('i', 'should'), 4.3870231231092465),\n",
       " (('i', 'would'), 4.3870231231092465),\n",
       " (('my', 'samsung'), 4.280107919192735),\n",
       " (('for', 'my'), 4.087462841250339),\n",
       " (('card', 'for'), 3.7655347463629765),\n",
       " (('for', 'a'), 3.087462841250339)]"
      ]
     },
     "execution_count": 39,
     "metadata": {},
     "output_type": "execute_result"
    }
   ],
   "source": [
    "finder.score_ngrams(bigram_measures.pmi)"
   ]
  },
  {
   "cell_type": "markdown",
   "metadata": {},
   "source": [
    "### Try to find NE (named entity): stanza"
   ]
  },
  {
   "cell_type": "markdown",
   "metadata": {},
   "source": [
    "https://github.com/named-entity/hse-nlp/blob/master/4th_year/Slides/3_NER.ipynb"
   ]
  },
  {
   "cell_type": "markdown",
   "metadata": {},
   "source": [
    "See also: https://stanfordnlp.github.io/stanza/pipeline.html"
   ]
  },
  {
   "cell_type": "code",
   "execution_count": 46,
   "metadata": {
    "ExecuteTime": {
     "end_time": "2022-12-16T21:49:00.987295Z",
     "start_time": "2022-12-16T21:49:00.974345Z"
    }
   },
   "outputs": [
    {
     "data": {
      "application/vnd.jupyter.widget-view+json": {
       "model_id": "b472fd658d07431cb6b3fc28a83c389a",
       "version_major": 2,
       "version_minor": 0
      },
      "text/plain": [
       "Downloading https://raw.githubusercontent.com/stanfordnlp/stanza-resources/main/resources_1.2.2.json:   0%|   …"
      ]
     },
     "metadata": {},
     "output_type": "display_data"
    },
    {
     "name": "stderr",
     "output_type": "stream",
     "text": [
      "2022-12-17 18:21:11 INFO: Downloading default packages for language: en (English)...\n"
     ]
    },
    {
     "data": {
      "application/vnd.jupyter.widget-view+json": {
       "model_id": "ff9b95fe4bee4aaf890faaf8834c587e",
       "version_major": 2,
       "version_minor": 0
      },
      "text/plain": [
       "Downloading http://nlp.stanford.edu/software/stanza/1.2.2/en/default.zip:   0%|          | 0.00/412M [00:00<?,…"
      ]
     },
     "metadata": {},
     "output_type": "display_data"
    },
    {
     "name": "stderr",
     "output_type": "stream",
     "text": [
      "2022-12-17 18:22:37 INFO: Finished downloading models and saved to /Users/mefeoss/stanza_resources.\n"
     ]
    }
   ],
   "source": [
    "import stanza\n",
    "stanza.download(\"en\")"
   ]
  },
  {
   "cell_type": "code",
   "execution_count": 47,
   "metadata": {
    "ExecuteTime": {
     "end_time": "2022-12-16T22:10:06.759714Z",
     "start_time": "2022-12-16T21:49:38.935923Z"
    }
   },
   "outputs": [
    {
     "name": "stderr",
     "output_type": "stream",
     "text": [
      "2022-12-17 18:22:37 INFO: Loading these models for language: en (English):\n",
      "=========================\n",
      "| Processor | Package   |\n",
      "-------------------------\n",
      "| tokenize  | combined  |\n",
      "| ner       | ontonotes |\n",
      "=========================\n",
      "\n",
      "2022-12-17 18:22:37 INFO: Use device: cpu\n",
      "2022-12-17 18:22:37 INFO: Loading: tokenize\n",
      "2022-12-17 18:22:37 INFO: Loading: ner\n",
      "2022-12-17 18:22:38 INFO: Done loading processors!\n"
     ]
    }
   ],
   "source": [
    "nlp = stanza.Pipeline(lang='en', processors='tokenize,ner')"
   ]
  },
  {
   "cell_type": "code",
   "execution_count": 48,
   "metadata": {
    "ExecuteTime": {
     "end_time": "2022-12-16T22:10:20.733538Z",
     "start_time": "2022-12-16T22:10:20.062987Z"
    }
   },
   "outputs": [
    {
     "name": "stdout",
     "output_type": "stream",
     "text": [
      "\n",
      "REVIEW TEXT:\n",
      "I used it for my Galaxy S4 for a good 6 months without any problems. And just today.. It's died. Won't work at all, can't recover any files, can't even format it to re-use it. It is now a worthless tiny chip... Thanks, Kingston. Won't be using this product again. Any one else who plans on using this for a phone, especially a Samsung, I would recommend you buy Samsung's brand for the SD card. I should have done that from the start, but I wasn't even aware they made an SD card brand at the time. (I should have known.. Samsung makes everything!)\n",
      "\n",
      "TITLE OF REVIEW:\n",
      "Died after about 6 months\n",
      "\n",
      "\n",
      "\n",
      "{\n",
      "  \"text\": \"my Galaxy S4\",\n",
      "  \"type\": \"PRODUCT\",\n",
      "  \"start_char\": 14,\n",
      "  \"end_char\": 26\n",
      "}\n",
      "{\n",
      "  \"text\": \"6 months\",\n",
      "  \"type\": \"DATE\",\n",
      "  \"start_char\": 38,\n",
      "  \"end_char\": 46\n",
      "}\n",
      "{\n",
      "  \"text\": \"today\",\n",
      "  \"type\": \"DATE\",\n",
      "  \"start_char\": 78,\n",
      "  \"end_char\": 83\n",
      "}\n",
      "{\n",
      "  \"text\": \"Kingston\",\n",
      "  \"type\": \"GPE\",\n",
      "  \"start_char\": 219,\n",
      "  \"end_char\": 227\n",
      "}\n",
      "{\n",
      "  \"text\": \"Samsung\",\n",
      "  \"type\": \"ORG\",\n",
      "  \"start_char\": 327,\n",
      "  \"end_char\": 334\n",
      "}\n",
      "{\n",
      "  \"text\": \"Samsung\",\n",
      "  \"type\": \"ORG\",\n",
      "  \"start_char\": 362,\n",
      "  \"end_char\": 369\n",
      "}\n",
      "{\n",
      "  \"text\": \"Samsung\",\n",
      "  \"type\": \"ORG\",\n",
      "  \"start_char\": 522,\n",
      "  \"end_char\": 529\n",
      "}\n"
     ]
    }
   ],
   "source": [
    "some_text = get_random_review_text(df, 888)[0]\n",
    "\n",
    "doc = nlp(some_text)\n",
    "for sent in doc.sentences:\n",
    "    for ent in sent.ents:  # достаем NE\n",
    "        print(ent)"
   ]
  }
 ],
 "metadata": {
  "kernelspec": {
   "display_name": "Python 3",
   "language": "python",
   "name": "python3"
  },
  "language_info": {
   "codemirror_mode": {
    "name": "ipython",
    "version": 3
   },
   "file_extension": ".py",
   "mimetype": "text/x-python",
   "name": "python",
   "nbconvert_exporter": "python",
   "pygments_lexer": "ipython3",
   "version": "3.8.3"
  },
  "toc": {
   "base_numbering": 1,
   "nav_menu": {},
   "number_sections": true,
   "sideBar": true,
   "skip_h1_title": false,
   "title_cell": "Table of Contents",
   "title_sidebar": "Contents",
   "toc_cell": false,
   "toc_position": {
    "height": "calc(100% - 180px)",
    "left": "10px",
    "top": "150px",
    "width": "217.273px"
   },
   "toc_section_display": true,
   "toc_window_display": true
  },
  "varInspector": {
   "cols": {
    "lenName": 16,
    "lenType": 16,
    "lenVar": 40
   },
   "kernels_config": {
    "python": {
     "delete_cmd_postfix": "",
     "delete_cmd_prefix": "del ",
     "library": "var_list.py",
     "varRefreshCmd": "print(var_dic_list())"
    },
    "r": {
     "delete_cmd_postfix": ") ",
     "delete_cmd_prefix": "rm(",
     "library": "var_list.r",
     "varRefreshCmd": "cat(var_dic_list()) "
    }
   },
   "types_to_exclude": [
    "module",
    "function",
    "builtin_function_or_method",
    "instance",
    "_Feature"
   ],
   "window_display": false
  }
 },
 "nbformat": 4,
 "nbformat_minor": 4
}
